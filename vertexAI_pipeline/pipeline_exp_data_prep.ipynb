{
 "cells": [
  {
   "cell_type": "markdown",
   "id": "ced2ddc8-156b-4eb2-a9db-1001d0dea8f2",
   "metadata": {},
   "source": [
    "## **Preparing pipeline input, Simulating pipeline input**"
   ]
  },
  {
   "cell_type": "code",
   "execution_count": 78,
   "id": "1694e6f4-a0ac-488b-b65b-6bbbf7c77338",
   "metadata": {},
   "outputs": [],
   "source": [
    "from google.cloud import storage\n",
    "import time\n",
    "import random\n",
    "import json"
   ]
  },
  {
   "cell_type": "code",
   "execution_count": 79,
   "id": "bf1a3889-c043-4f64-a6a5-e55a3d2307a6",
   "metadata": {},
   "outputs": [],
   "source": [
    "storage_client = storage.Client()\n",
    "bucket = storage_client.bucket('{BUCKET NAME}')"
   ]
  },
  {
   "cell_type": "code",
   "execution_count": 80,
   "id": "dfb123fe-8010-4678-b87c-fec046af4663",
   "metadata": {},
   "outputs": [],
   "source": [
    "def create_prompt_json(prompt_json,file_name):\n",
    "    if random.randint(1,1000)%2 == 0:\n",
    "        prompt_json[file_name] = {}\n",
    "        prompt_json[file_name][\"1\"]= [[300, 200]]\n",
    "    \n",
    "    return prompt_json"
   ]
  },
  {
   "cell_type": "code",
   "execution_count": 81,
   "id": "2f64a021-1170-4121-ae32-9b336d8f5475",
   "metadata": {},
   "outputs": [],
   "source": [
    "#set the batch size\n",
    "batch_sz = 5\n",
    "batch_folder_name = f\"batch_{batch_sz}\""
   ]
  },
  {
   "cell_type": "code",
   "execution_count": 82,
   "id": "6bf31964-ab6f-4b52-96c7-9f1526c6a6a0",
   "metadata": {},
   "outputs": [],
   "source": [
    "prompt_json = {}\n",
    "# batch_1 is a folder inside sam-pipeline-test bucket\n",
    "for i in range(batch_sz):\n",
    "    if (i%2)==0:\n",
    "        bucket.copy_blob(bucket.blob('pipeline/batch/simple_pencil.jpeg'), bucket, new_name=f'{batch_folder_name}/simple_pencil_{i}.jpeg')\n",
    "        prompt_json = create_prompt_json(prompt_json, f\"simple_pencil_{i}.jpeg\")\n",
    "    else:\n",
    "        bucket.copy_blob(bucket.blob('pipeline/batch/simple_apple.jpeg'), bucket, new_name=f'{batch_folder_name}/simple_apple_{i}.jpeg')\n",
    "        prompt_json = create_prompt_json(prompt_json, f\"simple_apple_{i}.jpeg\")"
   ]
  },
  {
   "cell_type": "code",
   "execution_count": 83,
   "id": "f6ffd2fc-b808-4a54-b2f7-b50c2fce50da",
   "metadata": {},
   "outputs": [
    {
     "data": {
      "text/plain": [
       "4"
      ]
     },
     "execution_count": 83,
     "metadata": {},
     "output_type": "execute_result"
    }
   ],
   "source": [
    "len(prompt_json)"
   ]
  },
  {
   "cell_type": "code",
   "execution_count": 84,
   "id": "3004f3b4-db84-4112-9b54-bf415155e81c",
   "metadata": {},
   "outputs": [],
   "source": [
    "PROMPTS_JSON = f\"json_prompts/prompts_json_{batch_sz}.jsonl\"\n",
    "with open(PROMPTS_JSON, \"w\") as outfile:\n",
    "    json.dump(prompt_json, outfile)"
   ]
  },
  {
   "cell_type": "code",
   "execution_count": 85,
   "id": "f1a7d129-5568-48fd-932e-60b566976fde",
   "metadata": {},
   "outputs": [],
   "source": [
    "blob = bucket.blob(f\"batch_{batch_sz}/{PROMPTS_JSON}\")\n",
    "\n",
    "blob.upload_from_filename(PROMPTS_JSON)"
   ]
  },
  {
   "cell_type": "code",
   "execution_count": 86,
   "id": "ff42c573-6cfd-4744-b99b-64433174b082",
   "metadata": {},
   "outputs": [
    {
     "data": {
      "text/plain": [
       "{'simple_pencil_0.jpeg': {'1': [[300, 200]]},\n",
       " 'simple_pencil_2.jpeg': {'1': [[300, 200]]},\n",
       " 'simple_apple_3.jpeg': {'1': [[300, 200]]},\n",
       " 'simple_pencil_4.jpeg': {'1': [[300, 200]]}}"
      ]
     },
     "execution_count": 86,
     "metadata": {},
     "output_type": "execute_result"
    }
   ],
   "source": [
    "prompt_json"
   ]
  },
  {
   "cell_type": "code",
   "execution_count": 1,
   "id": "e801a47b-b4fc-42cb-9060-745a240dad57",
   "metadata": {},
   "outputs": [],
   "source": [
    "import tempfile"
   ]
  },
  {
   "cell_type": "code",
   "execution_count": 4,
   "id": "8c5a05b5-50a0-439e-90ec-0a9eaf57f087",
   "metadata": {},
   "outputs": [],
   "source": [
    "import time"
   ]
  },
  {
   "cell_type": "code",
   "execution_count": 7,
   "id": "85ecf3cd-13d6-4542-b241-b4908570d518",
   "metadata": {},
   "outputs": [
    {
     "data": {
      "text/plain": [
       "'1691459051'"
      ]
     },
     "execution_count": 7,
     "metadata": {},
     "output_type": "execute_result"
    }
   ],
   "source": [
    "str(int(time.time()))"
   ]
  }
 ],
 "metadata": {
  "environment": {
   "kernel": "python3",
   "name": "pytorch-gpu.1-13.m108",
   "type": "gcloud",
   "uri": "gcr.io/deeplearning-platform-release/pytorch-gpu.1-13:m108"
  },
  "kernelspec": {
   "display_name": "Python 3",
   "language": "python",
   "name": "python3"
  },
  "language_info": {
   "codemirror_mode": {
    "name": "ipython",
    "version": 3
   },
   "file_extension": ".py",
   "mimetype": "text/x-python",
   "name": "python",
   "nbconvert_exporter": "python",
   "pygments_lexer": "ipython3",
   "version": "3.10.10"
  }
 },
 "nbformat": 4,
 "nbformat_minor": 5
}
