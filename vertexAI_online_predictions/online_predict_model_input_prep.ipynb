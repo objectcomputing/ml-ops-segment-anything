{
 "cells": [
  {
   "cell_type": "markdown",
   "id": "a37df5b0-97be-4074-b664-38ed10447b15",
   "metadata": {},
   "source": [
    "### Prepare input json for model predictions"
   ]
  },
  {
   "cell_type": "code",
   "execution_count": 1,
   "id": "0f62da6c-0370-403f-a834-934a31401162",
   "metadata": {},
   "outputs": [],
   "source": [
    "import cv2\n",
    "import numpy as np\n",
    "import json\n",
    "import base64"
   ]
  },
  {
   "cell_type": "code",
   "execution_count": 8,
   "id": "15162b1f-3124-4e3b-8d3e-6099a50e7297",
   "metadata": {},
   "outputs": [],
   "source": [
    "\"\"\" PREPARE INPUT FILE FOR WITHOUT PROMPTS MASKING \"\"\"\n",
    "image = cv2.imread('/home/jupyter/ml-ops-segment-anything/demo-notebooks/images/truck.jpg')\n",
    "img_string = base64.b64encode(cv2.imencode('.jpg', image)[1]).decode()\n",
    "input_instance = {}\n",
    "input = {}\n",
    "input_list = []\n",
    "\n",
    "input[\"file_path\"] = \"images/truck.jpg\"\n",
    "input[\"image\"] = img_string\n",
    "\n",
    "input_list.append(input)\n",
    "\n",
    "input_instance[\"instances\"] = input_list\n",
    "\n",
    "INPUT_FILE_WITHOUT_PROMPTS = \"input_without_prompts.jsonl\"\n",
    "with open(INPUT_FILE_WITHOUT_PROMPTS, \"w\") as outfile:\n",
    "    json.dump(input_instance, outfile)"
   ]
  },
  {
   "cell_type": "code",
   "execution_count": 22,
   "id": "76b4d5ef-aea5-4962-be39-0f1752679271",
   "metadata": {},
   "outputs": [],
   "source": [
    "\"\"\" PREPARE INPUT FILE FOR WITH PROMPTS MASKING \"\"\"\n",
    "image = cv2.imread('/home/jupyter/ml-ops-segment-anything/demo-notebooks/images/truck.jpg')\n",
    "img_string = base64.b64encode(cv2.imencode('.jpg', image)[1]).decode()\n",
    "input_instance = {}\n",
    "input = {}\n",
    "input_list = []\n",
    "\n",
    "input[\"file_path\"] = \"images/truck.jpg\"\n",
    "input[\"image\"] = img_string\n",
    "input_point = [500, 375]\n",
    "input_label = [1]\n",
    "\n",
    "input[\"input_point\"] = input_point\n",
    "input[\"input_label\"] = input_label\n",
    "\n",
    "input_list.append(input)\n",
    "input_instance[\"instances\"] = input_list\n",
    "\n",
    "INPUT_FILE_WITH_PROMPTS = \"input_with_prompts.jsonl\"\n",
    "with open(INPUT_FILE_WITH_PROMPTS, \"w\") as outfile:\n",
    "    json.dump(input_instance, outfile)"
   ]
  }
 ],
 "metadata": {
  "environment": {
   "kernel": "python3",
   "name": "pytorch-gpu.1-13.m108",
   "type": "gcloud",
   "uri": "gcr.io/deeplearning-platform-release/pytorch-gpu.1-13:m108"
  },
  "kernelspec": {
   "display_name": "Python 3",
   "language": "python",
   "name": "python3"
  },
  "language_info": {
   "codemirror_mode": {
    "name": "ipython",
    "version": 3
   },
   "file_extension": ".py",
   "mimetype": "text/x-python",
   "name": "python",
   "nbconvert_exporter": "python",
   "pygments_lexer": "ipython3",
   "version": "3.10.10"
  }
 },
 "nbformat": 4,
 "nbformat_minor": 5
}
