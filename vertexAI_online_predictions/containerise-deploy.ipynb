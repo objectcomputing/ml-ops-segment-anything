{
 "cells": [
  {
   "cell_type": "markdown",
   "id": "c61e7755-a5b9-45b8-b772-17c0b949fc21",
   "metadata": {},
   "source": [
    "## **Build Custom Container with Custom prediction Routine and push it to Artifacts Registry**"
   ]
  },
  {
   "cell_type": "code",
   "execution_count": 90,
   "id": "e983dff6-156b-45a3-b6b9-a1baae36109c",
   "metadata": {},
   "outputs": [],
   "source": [
    "from google.cloud.aiplatform.prediction import LocalModel \n",
    "from src.custom_sam_predictor import CustomSamPredictor \n",
    "import os\n",
    "import logging"
   ]
  },
  {
   "cell_type": "code",
   "execution_count": 91,
   "id": "d8f55781-950b-45c4-b0b5-ef420e18d869",
   "metadata": {},
   "outputs": [],
   "source": [
    "logging.basicConfig(level=logging.INFO)"
   ]
  },
  {
   "cell_type": "code",
   "execution_count": 92,
   "id": "ad7d3ab1-df09-401f-97af-6a3803e8db82",
   "metadata": {},
   "outputs": [],
   "source": [
    "USER_SRC_DIR = \"src\" # @param {type:\"string\"} source code directory name\n",
    "\n",
    "\"\"\" Replace it with the region you will be working in on GCP \"\"\"\n",
    "REGION = \"us-west1\" # @param {type:\"string\"} region\n",
    "\n",
    "\"\"\" Replace it with your Repository name \"\"\"\n",
    "REPOSITORY = \"sam-container\"  # @param {type:\"string\"} Artifacts registry repository name\n",
    "\n",
    "\"\"\" Replace it with your PROJECT ID \"\"\"\n",
    "PROJECT_ID = \"ml-ops-segment-anything\" # @param {type:\"string\"} GCP project ID\n",
    "\n",
    "IMAGE = \"sam-cpr-container\"  # @param {type:\"string\"} Custom Container name\n",
    "\n",
    "LOCAL_MODEL_ARTIFACTS_DIR = \"gs://segment-anything/ViT-B\" # @param {type:\"string\"} Directory with model artifacts, Required for local deployment"
   ]
  },
  {
   "cell_type": "code",
   "execution_count": 93,
   "id": "2c1925e4-c7b7-4d14-903d-17ef98676db1",
   "metadata": {},
   "outputs": [
    {
     "name": "stdout",
     "output_type": "stream",
     "text": [
      "Deleted Images:\n",
      "untagged: us-west1-docker.pkg.dev/ml-ops-segment-anything/sam-container/sam-cpr-container@sha256:38d5799a1b8fce57f668e8fb5f8bddfae2597b551839f5aa1d508e8f0e661019\n",
      "deleted: sha256:5d559c64e82ea4cabf624451c6ac85205ab0e2b7c941c5bcd36107bce9303daa\n",
      "deleted: sha256:9ebefc31a92562c3fcbe72209b9274d0fc8eec2bf8dd7cb50965a9bdf8f7865b\n",
      "\n",
      "Total reclaimed space: 26.31kB\n"
     ]
    }
   ],
   "source": [
    "\"\"\" Remove all unused containers \"\"\"\n",
    "!docker system prune -f"
   ]
  },
  {
   "cell_type": "markdown",
   "id": "ea2ed84e-2297-4066-a1ef-c75616bf1f0d",
   "metadata": {},
   "source": [
    "#### **Build custom container**"
   ]
  },
  {
   "cell_type": "code",
   "execution_count": 107,
   "id": "33d7dc12-d578-4bcf-8c6c-b7d37a905deb",
   "metadata": {
    "tags": []
   },
   "outputs": [
    {
     "name": "stderr",
     "output_type": "stream",
     "text": [
      "INFO:google.cloud.aiplatform.docker_utils.build:Running command: docker build -t us-west1-docker.pkg.dev/ml-ops-segment-anything/sam-container/sam-cpr-container --rm -f- src\n",
      "/opt/conda/lib/python3.10/subprocess.py:955: RuntimeWarning: line buffering (buffering=1) isn't supported in binary mode, the default buffer size will be used\n",
      "  self.stdin = io.open(p2cwrite, 'wb', bufsize)\n",
      "/opt/conda/lib/python3.10/subprocess.py:961: RuntimeWarning: line buffering (buffering=1) isn't supported in binary mode, the default buffer size will be used\n",
      "  self.stdout = io.open(c2pread, 'rb', bufsize)\n",
      "INFO:google.cloud.aiplatform.docker_utils.local_util:Sending build context to Docker daemon  31.28kB\n",
      "INFO:google.cloud.aiplatform.docker_utils.local_util:\n",
      "\n",
      "INFO:google.cloud.aiplatform.docker_utils.local_util:Step 1/13 : FROM us-west1-docker.pkg.dev/ml-ops-segment-anything/sam-container/online-container\n",
      "\n",
      "INFO:google.cloud.aiplatform.docker_utils.local_util: ---> 8ec9167592f0\n",
      "\n",
      "INFO:google.cloud.aiplatform.docker_utils.local_util:Step 2/13 : ENV PYTHONDONTWRITEBYTECODE=1\n",
      "\n",
      "INFO:google.cloud.aiplatform.docker_utils.local_util: ---> Using cache\n",
      "\n",
      "INFO:google.cloud.aiplatform.docker_utils.local_util: ---> 5f094a82b716\n",
      "\n",
      "INFO:google.cloud.aiplatform.docker_utils.local_util:Step 3/13 : EXPOSE 8080\n",
      "\n",
      "INFO:google.cloud.aiplatform.docker_utils.local_util: ---> Using cache\n",
      "\n",
      "INFO:google.cloud.aiplatform.docker_utils.local_util: ---> 5d1cf890cbe8\n",
      "\n",
      "INFO:google.cloud.aiplatform.docker_utils.local_util:Step 4/13 : ENTRYPOINT [\"python\", \"-m\", \"google.cloud.aiplatform.prediction.model_server\"]\n",
      "\n",
      "INFO:google.cloud.aiplatform.docker_utils.local_util: ---> Using cache\n",
      "\n",
      "INFO:google.cloud.aiplatform.docker_utils.local_util: ---> 1a66ab3a4815\n",
      "\n",
      "INFO:google.cloud.aiplatform.docker_utils.local_util:Step 5/13 : RUN mkdir -m 777 -p /usr/app /home\n",
      "\n",
      "INFO:google.cloud.aiplatform.docker_utils.local_util: ---> Using cache\n",
      "\n",
      "INFO:google.cloud.aiplatform.docker_utils.local_util: ---> 1041fcbda250\n",
      "\n",
      "INFO:google.cloud.aiplatform.docker_utils.local_util:Step 6/13 : WORKDIR /usr/app\n",
      "\n",
      "INFO:google.cloud.aiplatform.docker_utils.local_util: ---> Using cache\n",
      "\n",
      "INFO:google.cloud.aiplatform.docker_utils.local_util: ---> 89e004b04479\n",
      "\n",
      "INFO:google.cloud.aiplatform.docker_utils.local_util:Step 7/13 : ENV HOME=/home\n",
      "\n",
      "INFO:google.cloud.aiplatform.docker_utils.local_util: ---> Using cache\n",
      "\n",
      "INFO:google.cloud.aiplatform.docker_utils.local_util: ---> f80b043d7488\n",
      "\n",
      "INFO:google.cloud.aiplatform.docker_utils.local_util:Step 8/13 : RUN pip install --no-cache-dir --force-reinstall 'google-cloud-aiplatform[prediction]>=1.16.0'\n",
      "\n",
      "INFO:google.cloud.aiplatform.docker_utils.local_util: ---> Using cache\n",
      "\n",
      "INFO:google.cloud.aiplatform.docker_utils.local_util: ---> 9728e7a874f8\n",
      "\n",
      "INFO:google.cloud.aiplatform.docker_utils.local_util:Step 9/13 : ENV HANDLER_MODULE=google.cloud.aiplatform.prediction.handler\n",
      "\n",
      "INFO:google.cloud.aiplatform.docker_utils.local_util: ---> Using cache\n",
      "\n",
      "INFO:google.cloud.aiplatform.docker_utils.local_util: ---> 86232128b319\n",
      "\n",
      "INFO:google.cloud.aiplatform.docker_utils.local_util:Step 10/13 : ENV HANDLER_CLASS=PredictionHandler\n",
      "\n",
      "INFO:google.cloud.aiplatform.docker_utils.local_util: ---> Using cache\n",
      "\n",
      "INFO:google.cloud.aiplatform.docker_utils.local_util: ---> 59b04b139e68\n",
      "\n",
      "INFO:google.cloud.aiplatform.docker_utils.local_util:Step 11/13 : ENV PREDICTOR_MODULE=custom_sam_predictor\n",
      "\n",
      "INFO:google.cloud.aiplatform.docker_utils.local_util: ---> Using cache\n",
      "\n",
      "INFO:google.cloud.aiplatform.docker_utils.local_util: ---> efd2a310246c\n",
      "\n",
      "INFO:google.cloud.aiplatform.docker_utils.local_util:Step 12/13 : ENV PREDICTOR_CLASS=CustomSamPredictor\n",
      "\n",
      "INFO:google.cloud.aiplatform.docker_utils.local_util: ---> Using cache\n",
      "\n",
      "INFO:google.cloud.aiplatform.docker_utils.local_util: ---> 68bdb382a706\n",
      "\n",
      "INFO:google.cloud.aiplatform.docker_utils.local_util:Step 13/13 : COPY [\".\", \".\"]\n",
      "\n",
      "INFO:google.cloud.aiplatform.docker_utils.local_util: ---> b3595f775f50\n",
      "\n",
      "INFO:google.cloud.aiplatform.docker_utils.local_util:Successfully built b3595f775f50\n",
      "\n",
      "INFO:google.cloud.aiplatform.docker_utils.local_util:Successfully tagged us-west1-docker.pkg.dev/ml-ops-segment-anything/sam-container/sam-cpr-container:latest\n",
      "\n"
     ]
    }
   ],
   "source": [
    "\"\"\" Build custom docker container \"\"\"\n",
    "local_model = LocalModel.build_cpr_model(\n",
    "    USER_SRC_DIR,\n",
    "    f\"{REGION}-docker.pkg.dev/{PROJECT_ID}/{REPOSITORY}/{IMAGE}\",\n",
    "    predictor=CustomSamPredictor,\n",
    "    # requirements_path=os.path.join(USER_SRC_DIR, \"requirements.txt\"),\n",
    "    base_image=\"us-west1-docker.pkg.dev/ml-ops-segment-anything/sam-container/online-container\"\n",
    "    # base_image=\"pytorch/pytorch:1.13.1-cuda11.6-cudnn8-runtime\" # Base image from docker hub\n",
    "    # base_image=\"us-docker.pkg.dev/vertex-ai/training/pytorch-gpu.1-13.py310:latest\"\n",
    "    # base_image=\"us-docker.pkg.dev/vertex-ai/training/pytorch-gpu.1-13:latest\"\n",
    ")"
   ]
  },
  {
   "cell_type": "code",
   "execution_count": 108,
   "id": "8bfb9c6f-33d9-4b22-9b97-37dfcdc89a1d",
   "metadata": {},
   "outputs": [
    {
     "data": {
      "text/plain": [
       "image_uri: \"us-west1-docker.pkg.dev/ml-ops-segment-anything/sam-container/sam-cpr-container\"\n",
       "predict_route: \"/predict\"\n",
       "health_route: \"/health\""
      ]
     },
     "execution_count": 108,
     "metadata": {},
     "output_type": "execute_result"
    }
   ],
   "source": [
    "local_model.get_serving_container_spec()"
   ]
  },
  {
   "cell_type": "code",
   "execution_count": 109,
   "id": "740347f2-68e5-4cc7-a670-b6fe34208d0f",
   "metadata": {},
   "outputs": [],
   "source": [
    "\"\"\" INPUT JSON file to test ENDPOINT \"\"\"\n",
    "INPUT_FILE_WITH_PROMPTS = \"/home/jupyter/ml-ops-segment-anything/vertexAI_online_predictions/input_with_prompts.jsonl\"\n",
    "INPUT_FILE_WITHOUT_PROMPTS = \"/home/jupyter/ml-ops-segment-anything/vertexAI_online_predictions/input_without_prompts.jsonl\""
   ]
  },
  {
   "cell_type": "markdown",
   "id": "e3528629-34d1-47ea-9c3a-32d9808ee664",
   "metadata": {},
   "source": [
    "#### **Deploying Locally**"
   ]
  },
  {
   "cell_type": "code",
   "execution_count": 33,
   "id": "15261dc6-04b1-4bce-a7f9-00a9d042ce9f",
   "metadata": {
    "tags": []
   },
   "outputs": [
    {
     "name": "stderr",
     "output_type": "stream",
     "text": [
      "INFO:google.cloud.aiplatform.prediction.local_endpoint:Got the project id from the global config: ml-ops-segment-anything.\n"
     ]
    },
    {
     "name": "stdout",
     "output_type": "stream",
     "text": [
      "predicting\n"
     ]
    }
   ],
   "source": [
    "\"\"\" Deploying the model locally and simultaneously hitting the endpoint \"\"\"\n",
    "\n",
    "with local_model.deploy_to_local_endpoint(\n",
    "    artifact_uri=f\"{LOCAL_MODEL_ARTIFACTS_DIR}\",\n",
    "    gpu_count=1\n",
    "    \n",
    ") as local_endpoint:\n",
    "    print(\"predicting\")\n",
    "    predict_response = local_endpoint.predict(\n",
    "        request_file=INPUT_FILE_WITH_PROMPTS,\n",
    "        headers={\"Content-Type\": \"application/json\"},\n",
    "    )\n",
    "\n",
    "    health_check_response = local_endpoint.run_health_check()"
   ]
  },
  {
   "cell_type": "code",
   "execution_count": 34,
   "id": "33142b95-86db-4d2f-9ebd-9bd52d8e2837",
   "metadata": {
    "collapsed": true,
    "jupyter": {
     "outputs_hidden": true
    },
    "tags": []
   },
   "outputs": [
    {
     "name": "stdout",
     "output_type": "stream",
     "text": [
      "{'prediction_type': 'Predicting without Prompts', 'ratio': 0.8737201365187713, 'polygon_vertices': {'mask_0': [[[309, 25], [310, 24], [314, 24], [315, 25], [316, 25], [319, 28], [319, 29], [321, 31], [321, 35], [320, 36], [320, 38], [319, 39], [319, 42], [320, 43], [320, 45], [322, 47], [322, 48], [323, 49], [324, 49], [325, 50], [326, 50], [327, 51], [331, 51], [332, 52], [336, 52], [337, 53], [339, 53], [340, 54], [342, 54], [343, 55], [345, 55], [346, 56], [348, 56], [349, 57], [350, 57], [351, 58], [352, 58], [353, 59], [355, 59], [356, 60], [357, 60], [358, 61], [359, 61], [360, 62], [361, 62], [362, 63], [363, 63], [365, 65], [366, 65], [368, 67], [369, 67], [371, 69], [372, 69], [376, 73], [377, 73], [398, 94], [398, 95], [401, 98], [401, 99], [404, 102], [404, 103], [406, 105], [406, 106], [408, 108], [408, 109], [409, 110], [409, 111], [410, 112], [410, 113], [411, 114], [411, 115], [412, 116], [412, 117], [413, 118], [413, 119], [414, 120], [414, 121], [415, 122], [415, 124], [416, 125], [416, 126], [417, 127], [417, 129], [418, 130], [418, 132], [419, 133], [419, 136], [420, 137], [420, 139], [421, 140], [421, 144], [422, 145], [422, 149], [423, 150], [423, 156], [424, 157], [424, 167], [425, 168], [425, 198], [424, 199], [424, 202], [423, 203], [423, 206], [422, 207], [422, 209], [421, 210], [421, 212], [420, 213], [420, 215], [419, 216], [419, 219], [418, 220], [418, 222], [417, 223], [417, 224], [416, 225], [416, 227], [415, 228], [415, 229], [414, 230], [414, 232], [413, 233], [413, 234], [412, 235], [412, 236], [411, 237], [411, 238], [410, 239], [410, 240], [409, 241], [409, 242], [408, 243], [408, 244], [407, 245], [407, 246], [406, 247], [406, 248], [405, 249], [405, 250], [403, 252], [403, 253], [401, 255], [401, 256], [400, 257], [400, 258], [398, 260], [398, 261], [395, 264], [395, 265], [392, 268], [392, 269], [388, 273], [388, 274], [381, 281], [381, 282], [366, 297], [365, 297], [354, 308], [353, 308], [348, 313], [347, 313], [343, 317], [342, 317], [339, 320], [338, 320], [336, 322], [335, 322], [334, 323], [333, 323], [331, 325], [330, 325], [329, 326], [328, 326], [326, 328], [325, 328], [324, 329], [323, 329], [322, 330], [320, 330], [319, 331], [317, 331], [316, 332], [315, 332], [314, 333], [312, 333], [311, 334], [308, 334], [307, 335], [305, 335], [304, 336], [301, 336], [300, 337], [296, 337], [295, 338], [289, 338], [288, 339], [269, 339], [268, 338], [259, 338], [258, 337], [249, 337], [248, 336], [240, 336], [239, 335], [234, 335], [233, 334], [230, 334], [229, 333], [227, 333], [226, 332], [224, 332], [223, 331], [222, 331], [221, 330], [220, 330], [219, 329], [218, 329], [217, 328], [216, 328], [215, 327], [214, 327], [212, 325], [211, 325], [210, 324], [209, 324], [207, 322], [206, 322], [204, 320], [203, 320], [201, 318], [200, 318], [198, 316], [197, 316], [194, 313], [193, 313], [190, 310], [189, 310], [185, 306], [184, 306], [178, 300], [177, 300], [161, 284], [161, 283], [156, 278], [156, 277], [153, 274], [153, 273], [151, 271], [151, 270], [148, 267], [148, 266], [147, 265], [147, 264], [145, 262], [145, 261], [144, 260], [144, 259], [142, 257], [142, 256], [141, 255], [141, 254], [140, 253], [140, 252], [139, 251], [139, 250], [138, 249], [138, 248], [137, 247], [137, 246], [136, 245], [136, 244], [135, 243], [135, 241], [134, 240], [134, 239], [133, 238], [133, 236], [132, 235], [132, 233], [131, 232], [131, 230], [130, 229], [130, 228], [129, 227], [129, 224], [128, 223], [128, 221], [127, 220], [127, 217], [126, 216], [126, 213], [125, 212], [125, 210], [124, 209], [124, 205], [123, 204], [123, 201], [122, 200], [122, 194], [121, 193], [121, 179], [120, 178], [120, 169], [121, 168], [121, 160], [122, 159], [122, 149], [123, 148], [123, 143], [124, 142], [124, 139], [125, 138], [125, 135], [126, 134], [126, 132], [127, 131], [127, 129], [128, 128], [128, 126], [129, 125], [129, 123], [130, 122], [130, 121], [131, 120], [131, 118], [132, 117], [132, 116], [133, 115], [133, 114], [134, 113], [134, 112], [135, 111], [135, 110], [136, 109], [136, 108], [137, 107], [137, 106], [138, 105], [138, 104], [140, 102], [140, 101], [142, 99], [142, 98], [143, 97], [143, 96], [146, 93], [146, 92], [151, 87], [151, 86], [162, 75], [163, 75], [168, 70], [169, 70], [172, 67], [173, 67], [175, 65], [176, 65], [178, 63], [179, 63], [181, 61], [182, 61], [183, 60], [184, 60], [186, 58], [187, 58], [188, 57], [189, 57], [190, 56], [191, 56], [192, 55], [193, 55], [194, 54], [195, 54], [196, 53], [197, 53], [198, 52], [200, 52], [201, 51], [203, 51], [204, 50], [207, 50], [208, 49], [210, 49], [211, 48], [214, 48], [215, 47], [218, 47], [219, 46], [222, 46], [223, 45], [226, 45], [227, 44], [233, 44], [234, 43], [261, 43], [262, 44], [283, 44], [284, 45], [293, 45], [294, 44], [295, 44], [300, 39], [300, 38], [301, 37], [301, 34], [302, 33], [302, 32], [303, 31], [303, 30], [308, 25]], [[0, 0], [0, 383], [511, 383], [511, 0]]], 'mask_1': [[[235, 46], [234, 47], [227, 47], [226, 48], [222, 48], [221, 49], [217, 49], [216, 50], [213, 50], [212, 51], [209, 51], [208, 52], [206, 52], [205, 53], [203, 53], [202, 54], [200, 54], [199, 55], [198, 55], [197, 56], [195, 56], [194, 57], [193, 57], [192, 58], [191, 58], [190, 59], [189, 59], [188, 60], [187, 60], [186, 61], [185, 61], [183, 63], [182, 63], [181, 64], [180, 64], [178, 66], [177, 66], [174, 69], [173, 69], [170, 72], [169, 72], [164, 77], [163, 77], [152, 88], [152, 89], [148, 93], [148, 94], [145, 97], [145, 98], [143, 100], [143, 101], [141, 103], [141, 104], [140, 105], [140, 106], [139, 107], [139, 108], [138, 109], [138, 110], [137, 111], [137, 112], [136, 113], [136, 114], [135, 115], [135, 116], [134, 117], [134, 118], [133, 119], [133, 121], [132, 122], [132, 123], [131, 124], [131, 126], [130, 127], [130, 129], [129, 130], [129, 132], [128, 133], [128, 136], [127, 137], [127, 140], [126, 141], [126, 145], [125, 146], [125, 152], [124, 153], [124, 165], [123, 166], [123, 185], [124, 186], [124, 196], [125, 197], [125, 202], [126, 203], [126, 207], [127, 208], [127, 210], [128, 211], [128, 214], [129, 215], [129, 217], [130, 218], [130, 220], [131, 221], [131, 224], [132, 225], [132, 226], [133, 227], [133, 230], [134, 231], [134, 233], [135, 234], [135, 235], [136, 236], [136, 238], [137, 239], [137, 240], [138, 241], [138, 242], [139, 243], [139, 245], [140, 246], [140, 247], [141, 248], [141, 249], [142, 250], [142, 251], [143, 252], [143, 253], [144, 254], [144, 255], [146, 257], [146, 258], [147, 259], [147, 260], [149, 262], [149, 263], [150, 264], [150, 265], [152, 267], [152, 268], [154, 270], [154, 271], [157, 274], [157, 275], [160, 278], [160, 279], [167, 286], [167, 287], [173, 293], [174, 293], [182, 301], [183, 301], [188, 306], [189, 306], [192, 309], [193, 309], [196, 312], [197, 312], [199, 314], [200, 314], [202, 316], [203, 316], [205, 318], [206, 318], [208, 320], [209, 320], [211, 322], [212, 322], [214, 324], [215, 324], [216, 325], [217, 325], [218, 326], [219, 326], [220, 327], [221, 327], [222, 328], [223, 328], [224, 329], [226, 329], [227, 330], [229, 330], [230, 331], [234, 331], [235, 332], [241, 332], [242, 333], [248, 333], [249, 334], [260, 334], [261, 335], [292, 335], [293, 334], [298, 334], [299, 333], [302, 333], [303, 332], [306, 332], [307, 331], [310, 331], [311, 330], [313, 330], [314, 329], [316, 329], [317, 328], [319, 328], [320, 327], [321, 327], [322, 326], [323, 326], [324, 325], [325, 325], [326, 324], [327, 324], [329, 322], [330, 322], [331, 321], [332, 321], [334, 319], [335, 319], [337, 317], [338, 317], [341, 314], [342, 314], [346, 310], [347, 310], [352, 305], [353, 305], [363, 295], [364, 295], [380, 279], [380, 278], [386, 272], [386, 271], [390, 267], [390, 266], [393, 263], [393, 262], [395, 260], [395, 259], [397, 257], [397, 256], [399, 254], [399, 253], [401, 251], [401, 250], [402, 249], [402, 248], [404, 246], [404, 245], [405, 244], [405, 243], [406, 242], [406, 241], [407, 240], [407, 239], [408, 238], [408, 237], [409, 236], [409, 235], [410, 234], [410, 233], [411, 232], [411, 230], [412, 229], [412, 228], [413, 227], [413, 225], [414, 224], [414, 222], [415, 221], [415, 219], [416, 218], [416, 216], [417, 215], [417, 212], [418, 211], [418, 208], [419, 207], [419, 204], [420, 203], [420, 200], [421, 199], [421, 193], [422, 192], [422, 168], [421, 167], [421, 157], [420, 156], [420, 149], [419, 148], [419, 143], [418, 142], [418, 139], [417, 138], [417, 135], [416, 134], [416, 132], [415, 131], [415, 130], [414, 129], [414, 127], [413, 126], [413, 124], [412, 123], [412, 122], [411, 121], [411, 119], [410, 118], [410, 117], [409, 116], [409, 115], [408, 114], [408, 113], [407, 112], [407, 111], [405, 109], [405, 108], [404, 107], [404, 106], [401, 103], [401, 102], [399, 100], [399, 99], [395, 95], [395, 94], [388, 87], [388, 86], [382, 80], [381, 80], [375, 74], [374, 74], [371, 71], [370, 71], [368, 69], [367, 69], [365, 67], [364, 67], [363, 66], [362, 66], [360, 64], [359, 64], [358, 63], [357, 63], [356, 62], [355, 62], [354, 61], [352, 61], [351, 60], [350, 60], [349, 59], [347, 59], [346, 58], [345, 58], [344, 57], [342, 57], [341, 56], [338, 56], [337, 55], [335, 55], [334, 54], [331, 54], [330, 53], [326, 53], [325, 52], [317, 52], [316, 53], [315, 53], [314, 54], [313, 54], [309, 58], [308, 58], [307, 59], [306, 59], [305, 60], [302, 60], [301, 59], [301, 58], [296, 53], [296, 52], [293, 49], [292, 49], [291, 48], [290, 48], [289, 47], [261, 47], [260, 46]]], 'mask_2': [[[0, 0], [0, 221], [2, 221], [3, 222], [11, 222], [12, 223], [18, 223], [19, 224], [26, 224], [27, 225], [37, 225], [38, 226], [59, 226], [60, 227], [75, 227], [76, 228], [90, 228], [91, 229], [99, 229], [100, 230], [107, 230], [108, 231], [113, 231], [114, 232], [121, 232], [126, 227], [126, 226], [127, 225], [127, 222], [126, 221], [126, 219], [125, 218], [125, 214], [124, 213], [124, 210], [123, 209], [123, 205], [122, 204], [122, 198], [121, 197], [121, 190], [120, 189], [120, 161], [121, 160], [121, 152], [122, 151], [122, 145], [123, 144], [123, 140], [124, 139], [124, 136], [125, 135], [125, 133], [126, 132], [126, 130], [127, 129], [127, 127], [128, 126], [128, 124], [129, 123], [129, 122], [130, 121], [130, 120], [131, 119], [131, 117], [132, 116], [132, 115], [133, 114], [133, 113], [134, 112], [134, 111], [135, 110], [135, 109], [136, 108], [136, 107], [137, 106], [137, 105], [139, 103], [139, 102], [140, 101], [140, 100], [142, 98], [142, 97], [144, 95], [144, 94], [148, 90], [148, 89], [164, 73], [165, 73], [169, 69], [170, 69], [173, 66], [174, 66], [176, 64], [177, 64], [179, 62], [180, 62], [182, 60], [183, 60], [184, 59], [185, 59], [187, 57], [188, 57], [189, 56], [190, 56], [191, 55], [192, 55], [193, 54], [194, 54], [195, 53], [197, 53], [198, 52], [200, 52], [201, 51], [203, 51], [204, 50], [206, 50], [207, 49], [209, 49], [210, 48], [213, 48], [214, 47], [216, 47], [217, 46], [220, 46], [221, 45], [225, 45], [226, 44], [231, 44], [232, 43], [263, 43], [264, 44], [285, 44], [286, 45], [293, 45], [294, 44], [295, 44], [300, 39], [300, 38], [301, 37], [301, 34], [302, 33], [302, 32], [304, 30], [304, 29], [308, 25], [309, 25], [310, 24], [313, 24], [314, 25], [315, 25], [320, 30], [320, 37], [319, 38], [319, 42], [320, 43], [320, 45], [322, 47], [322, 48], [323, 49], [324, 49], [325, 50], [328, 50], [329, 51], [332, 51], [333, 52], [336, 52], [337, 53], [340, 53], [341, 54], [343, 54], [344, 55], [346, 55], [347, 56], [348, 56], [349, 57], [351, 57], [352, 58], [353, 58], [354, 59], [355, 59], [356, 60], [357, 60], [358, 61], [359, 61], [360, 62], [362, 62], [364, 64], [365, 64], [366, 65], [367, 65], [369, 67], [370, 67], [372, 69], [373, 69], [377, 73], [378, 73], [396, 91], [396, 92], [400, 96], [400, 97], [403, 100], [403, 101], [406, 104], [406, 105], [407, 106], [407, 107], [408, 108], [408, 109], [410, 111], [410, 112], [411, 113], [411, 114], [412, 115], [412, 116], [413, 117], [413, 119], [414, 120], [414, 121], [415, 122], [415, 123], [416, 124], [416, 126], [417, 127], [417, 129], [418, 130], [418, 131], [419, 132], [419, 135], [420, 136], [420, 139], [421, 140], [421, 143], [422, 144], [422, 148], [423, 149], [423, 154], [424, 155], [424, 162], [425, 163], [425, 185], [426, 186], [426, 187], [431, 192], [432, 192], [433, 193], [438, 193], [439, 192], [443, 192], [444, 191], [448, 191], [449, 190], [454, 190], [455, 189], [461, 189], [462, 188], [469, 188], [470, 187], [485, 187], [486, 186], [499, 186], [500, 187], [511, 187], [511, 0]]], 'mask_3': [[[0, 225], [0, 383], [511, 383], [511, 297], [508, 297], [507, 298], [503, 298], [502, 299], [500, 299], [499, 300], [497, 300], [496, 301], [494, 301], [493, 302], [491, 302], [490, 303], [488, 303], [487, 304], [485, 304], [484, 305], [482, 305], [481, 306], [478, 306], [477, 307], [475, 307], [474, 308], [471, 308], [470, 309], [468, 309], [467, 310], [465, 310], [464, 311], [461, 311], [460, 312], [458, 312], [457, 313], [454, 313], [453, 314], [450, 314], [449, 315], [446, 315], [445, 316], [442, 316], [441, 317], [439, 317], [438, 318], [435, 318], [434, 319], [431, 319], [430, 320], [427, 320], [426, 321], [423, 321], [422, 322], [418, 322], [417, 323], [414, 323], [413, 324], [410, 324], [409, 325], [405, 325], [404, 326], [400, 326], [399, 327], [396, 327], [395, 328], [391, 328], [390, 329], [385, 329], [384, 330], [379, 330], [378, 331], [373, 331], [372, 332], [366, 332], [365, 333], [360, 333], [359, 334], [353, 334], [352, 335], [344, 335], [343, 336], [332, 336], [331, 337], [318, 337], [317, 338], [294, 338], [293, 339], [268, 339], [267, 338], [258, 338], [257, 337], [249, 337], [248, 336], [241, 336], [240, 335], [235, 335], [234, 334], [230, 334], [229, 333], [227, 333], [226, 332], [224, 332], [223, 331], [222, 331], [221, 330], [220, 330], [219, 329], [218, 329], [217, 328], [216, 328], [215, 327], [214, 327], [213, 326], [212, 326], [210, 324], [209, 324], [208, 323], [207, 323], [205, 321], [204, 321], [202, 319], [201, 319], [199, 317], [198, 317], [196, 315], [195, 315], [192, 312], [191, 312], [188, 309], [187, 309], [183, 305], [182, 305], [176, 299], [175, 299], [157, 281], [157, 280], [153, 276], [153, 275], [150, 272], [150, 271], [148, 269], [148, 268], [145, 265], [145, 264], [144, 263], [144, 262], [142, 260], [142, 259], [141, 258], [141, 257], [140, 256], [140, 255], [138, 253], [138, 252], [137, 251], [137, 250], [136, 249], [136, 248], [135, 247], [135, 246], [128, 239], [127, 239], [125, 237], [124, 237], [123, 236], [119, 236], [118, 235], [110, 235], [109, 234], [104, 234], [103, 233], [95, 233], [94, 232], [85, 232], [84, 231], [74, 231], [73, 230], [57, 230], [56, 229], [38, 229], [37, 228], [28, 228], [27, 227], [19, 227], [18, 226], [11, 226], [10, 225]]], 'mask_4': [[[476, 189], [475, 190], [468, 190], [467, 191], [460, 191], [459, 192], [453, 192], [452, 193], [447, 193], [446, 194], [441, 194], [440, 195], [437, 195], [436, 196], [433, 196], [432, 197], [431, 197], [430, 198], [429, 198], [423, 204], [423, 205], [422, 206], [422, 207], [421, 208], [421, 210], [420, 211], [420, 214], [419, 215], [419, 217], [418, 218], [418, 220], [417, 221], [417, 223], [416, 224], [416, 226], [415, 227], [415, 228], [414, 229], [414, 231], [413, 232], [413, 233], [412, 234], [412, 235], [411, 236], [411, 237], [410, 238], [410, 240], [409, 241], [409, 242], [408, 243], [408, 244], [407, 245], [407, 246], [405, 248], [405, 249], [404, 250], [404, 251], [402, 253], [402, 254], [401, 255], [401, 256], [399, 258], [399, 259], [396, 262], [396, 263], [393, 266], [393, 267], [390, 270], [390, 271], [385, 276], [385, 277], [360, 302], [359, 302], [351, 310], [350, 310], [345, 315], [344, 315], [341, 318], [340, 318], [337, 321], [336, 321], [334, 323], [334, 329], [337, 332], [340, 332], [341, 333], [349, 333], [350, 332], [358, 332], [359, 331], [366, 331], [367, 330], [373, 330], [374, 329], [379, 329], [380, 328], [385, 328], [386, 327], [390, 327], [391, 326], [395, 326], [396, 325], [400, 325], [401, 324], [405, 324], [406, 323], [410, 323], [411, 322], [414, 322], [415, 321], [419, 321], [420, 320], [423, 320], [424, 319], [427, 319], [428, 318], [431, 318], [432, 317], [435, 317], [436, 316], [439, 316], [440, 315], [443, 315], [444, 314], [446, 314], [447, 313], [450, 313], [451, 312], [454, 312], [455, 311], [457, 311], [458, 310], [461, 310], [462, 309], [464, 309], [465, 308], [468, 308], [469, 307], [471, 307], [472, 306], [475, 306], [476, 305], [478, 305], [479, 304], [481, 304], [482, 303], [485, 303], [486, 302], [488, 302], [489, 301], [491, 301], [492, 300], [494, 300], [495, 299], [497, 299], [498, 298], [500, 298], [501, 297], [503, 297], [504, 296], [509, 296], [510, 295], [511, 295], [511, 189]]], 'mask_5': [[[310, 27], [305, 32], [305, 33], [304, 34], [304, 44], [303, 45], [303, 49], [304, 50], [304, 52], [307, 52], [312, 47], [312, 46], [314, 44], [314, 43], [315, 42], [315, 41], [316, 40], [316, 39], [317, 38], [317, 36], [318, 35], [318, 33], [317, 32], [317, 31], [315, 29], [315, 28], [314, 28], [313, 27]]], 'mask_6': [[[205, 146], [202, 149], [202, 153], [206, 157], [209, 157], [212, 154], [212, 153], [213, 152], [213, 150], [209, 146]]]}}\n"
     ]
    }
   ],
   "source": [
    "\"\"\" Printing model response \"\"\"\n",
    "print(predict_response.json())"
   ]
  },
  {
   "cell_type": "code",
   "execution_count": 110,
   "id": "f23e03cb-329d-4c69-bdeb-e7f76129d2a3",
   "metadata": {
    "tags": []
   },
   "outputs": [
    {
     "name": "stderr",
     "output_type": "stream",
     "text": [
      "/opt/conda/lib/python3.10/subprocess.py:955: RuntimeWarning: line buffering (buffering=1) isn't supported in binary mode, the default buffer size will be used\n",
      "  self.stdin = io.open(p2cwrite, 'wb', bufsize)\n",
      "/opt/conda/lib/python3.10/subprocess.py:961: RuntimeWarning: line buffering (buffering=1) isn't supported in binary mode, the default buffer size will be used\n",
      "  self.stdout = io.open(c2pread, 'rb', bufsize)\n",
      "INFO:google.cloud.aiplatform.docker_utils.local_util:Using default tag: latest\n",
      "\n",
      "INFO:google.cloud.aiplatform.docker_utils.local_util:The push refers to repository [us-west1-docker.pkg.dev/ml-ops-segment-anything/sam-container/sam-cpr-container]\n",
      "\n",
      "INFO:google.cloud.aiplatform.docker_utils.local_util:228f5776c5eb: Preparing\n",
      "\n",
      "INFO:google.cloud.aiplatform.docker_utils.local_util:2563615b67ae: Preparing\n",
      "\n",
      "INFO:google.cloud.aiplatform.docker_utils.local_util:bf4d6706efae: Preparing\n",
      "\n",
      "INFO:google.cloud.aiplatform.docker_utils.local_util:db25cbeb7584: Preparing\n",
      "\n",
      "INFO:google.cloud.aiplatform.docker_utils.local_util:6fa8c8035fc5: Preparing\n",
      "\n",
      "INFO:google.cloud.aiplatform.docker_utils.local_util:0eaee40f3b96: Preparing\n",
      "\n",
      "INFO:google.cloud.aiplatform.docker_utils.local_util:2f9392706e5a: Preparing\n",
      "\n",
      "INFO:google.cloud.aiplatform.docker_utils.local_util:1d1bf9a3cb96: Preparing\n",
      "\n",
      "INFO:google.cloud.aiplatform.docker_utils.local_util:aa7652a10f81: Preparing\n",
      "\n",
      "INFO:google.cloud.aiplatform.docker_utils.local_util:45bbe3d22998: Preparing\n",
      "\n",
      "INFO:google.cloud.aiplatform.docker_utils.local_util:0eaee40f3b96: Waiting\n",
      "\n",
      "INFO:google.cloud.aiplatform.docker_utils.local_util:2f9392706e5a: Waiting\n",
      "\n",
      "INFO:google.cloud.aiplatform.docker_utils.local_util:1d1bf9a3cb96: Waiting\n",
      "\n",
      "INFO:google.cloud.aiplatform.docker_utils.local_util:aa7652a10f81: Waiting\n",
      "\n",
      "INFO:google.cloud.aiplatform.docker_utils.local_util:45bbe3d22998: Waiting\n",
      "\n",
      "INFO:google.cloud.aiplatform.docker_utils.local_util:2563615b67ae: Layer already exists\n",
      "\n",
      "INFO:google.cloud.aiplatform.docker_utils.local_util:bf4d6706efae: Layer already exists\n",
      "\n",
      "INFO:google.cloud.aiplatform.docker_utils.local_util:6fa8c8035fc5: Layer already exists\n",
      "\n",
      "INFO:google.cloud.aiplatform.docker_utils.local_util:db25cbeb7584: Layer already exists\n",
      "\n",
      "INFO:google.cloud.aiplatform.docker_utils.local_util:2f9392706e5a: Layer already exists\n",
      "\n",
      "INFO:google.cloud.aiplatform.docker_utils.local_util:0eaee40f3b96: Layer already exists\n",
      "\n",
      "INFO:google.cloud.aiplatform.docker_utils.local_util:1d1bf9a3cb96: Layer already exists\n",
      "\n",
      "INFO:google.cloud.aiplatform.docker_utils.local_util:aa7652a10f81: Layer already exists\n",
      "\n",
      "INFO:google.cloud.aiplatform.docker_utils.local_util:45bbe3d22998: Layer already exists\n",
      "\n",
      "INFO:google.cloud.aiplatform.docker_utils.local_util:228f5776c5eb: Pushed\n",
      "\n",
      "INFO:google.cloud.aiplatform.docker_utils.local_util:latest: digest: sha256:507d93e09f2f66cdb21facdb856c9be1f2d4361fc5482d51fd2f2a6febbf950a size: 2420\n",
      "\n"
     ]
    }
   ],
   "source": [
    "\"\"\" Push the container to ARTIFACTS REGISTRY \"\"\"\n",
    "local_model.push_image()"
   ]
  },
  {
   "cell_type": "code",
   "execution_count": 111,
   "id": "4569f338-b13c-477c-90ab-2aea963dee20",
   "metadata": {},
   "outputs": [
    {
     "name": "stdout",
     "output_type": "stream",
     "text": [
      "Creating Model\n"
     ]
    },
    {
     "name": "stderr",
     "output_type": "stream",
     "text": [
      "INFO:google.cloud.aiplatform.models:Creating Model\n"
     ]
    },
    {
     "name": "stdout",
     "output_type": "stream",
     "text": [
      "Create Model backing LRO: projects/633534855904/locations/us-west1/models/8628413100925648896/operations/1284696873684172800\n"
     ]
    },
    {
     "name": "stderr",
     "output_type": "stream",
     "text": [
      "INFO:google.cloud.aiplatform.models:Create Model backing LRO: projects/633534855904/locations/us-west1/models/8628413100925648896/operations/1284696873684172800\n"
     ]
    },
    {
     "name": "stdout",
     "output_type": "stream",
     "text": [
      "Model created. Resource name: projects/633534855904/locations/us-west1/models/8628413100925648896@1\n"
     ]
    },
    {
     "name": "stderr",
     "output_type": "stream",
     "text": [
      "INFO:google.cloud.aiplatform.models:Model created. Resource name: projects/633534855904/locations/us-west1/models/8628413100925648896@1\n"
     ]
    },
    {
     "name": "stdout",
     "output_type": "stream",
     "text": [
      "To use this Model in another session:\n"
     ]
    },
    {
     "name": "stderr",
     "output_type": "stream",
     "text": [
      "INFO:google.cloud.aiplatform.models:To use this Model in another session:\n"
     ]
    },
    {
     "name": "stdout",
     "output_type": "stream",
     "text": [
      "model = aiplatform.Model('projects/633534855904/locations/us-west1/models/8628413100925648896@1')\n"
     ]
    },
    {
     "name": "stderr",
     "output_type": "stream",
     "text": [
      "INFO:google.cloud.aiplatform.models:model = aiplatform.Model('projects/633534855904/locations/us-west1/models/8628413100925648896@1')\n"
     ]
    }
   ],
   "source": [
    "from google.cloud import aiplatform\n",
    "\n",
    "GCS_PATH_TO_MODEL_ARTIFACTS = \"gs://segment-anything/ViT-B\"\n",
    "MODEL_DISPLAY_NAME = \"wallace_test\"\n",
    "\n",
    "model = aiplatform.Model.upload(\n",
    "    local_model=local_model,\n",
    "    display_name=MODEL_DISPLAY_NAME,\n",
    "    artifact_uri=GCS_PATH_TO_MODEL_ARTIFACTS,\n",
    "    location=REGION\n",
    ")"
   ]
  },
  {
   "cell_type": "markdown",
   "id": "237a608b-71d1-45bc-88cf-6c6ac0915f9a",
   "metadata": {},
   "source": [
    "### **Testing the ENDPOINT**"
   ]
  },
  {
   "cell_type": "code",
   "execution_count": 19,
   "id": "d5e9adc4-6c8c-4f0e-804f-848b010997e5",
   "metadata": {},
   "outputs": [],
   "source": [
    "\"\"\" Making a curl call to make sure the endpoint is working \n",
    "Replace\n",
    "    PROJECT_ID, ENDPOINT_ID and INPUT_DATA_FILE with the correct values after deployment \n",
    "\"\"\"\n",
    "!curl \\\n",
    "-X POST \\\n",
    "-H \"Authorization: Bearer $(gcloud auth print-access-token)\" \\\n",
    "-H \"Content-Type: application/json\" \\\n",
    "https://us-west1-aiplatform.googleapis.com/v1/projects/${PROJECT_ID}/locations/us-west1/endpoints/${ENDPOINT_ID}:predict \\\n",
    "-d \"@${INPUT_DATA_FILE}\""
   ]
  },
  {
   "cell_type": "code",
   "execution_count": 66,
   "id": "a5b112bd-0fa8-4484-a9dc-72ec7b9c7347",
   "metadata": {},
   "outputs": [],
   "source": [
    "# import json\n",
    "# with open(\"input_without_prompts.jsonl\", \"r\") as f:\n",
    "#     js = json.load(f)"
   ]
  },
  {
   "cell_type": "code",
   "execution_count": 100,
   "id": "a9bccd58-ce6d-41b1-97a1-2c42f1789397",
   "metadata": {
    "collapsed": true,
    "jupyter": {
     "outputs_hidden": true
    },
    "tags": []
   },
   "outputs": [
    {
     "name": "stdout",
     "output_type": "stream",
     "text": [
      "response\n",
      " deployed_model_id: 6952599050520625152\n",
      " prediction: {'mask_6': [[[205.0, 146.0], [202.0, 149.0], [202.0, 153.0], [206.0, 157.0], [209.0, 157.0], [212.0, 154.0], [212.0, 153.0], [213.0, 152.0], [213.0, 150.0], [209.0, 146.0]]], 'mask_5': [[[310.0, 27.0], [305.0, 32.0], [305.0, 33.0], [304.0, 34.0], [304.0, 44.0], [303.0, 45.0], [303.0, 49.0], [304.0, 50.0], [304.0, 52.0], [307.0, 52.0], [312.0, 47.0], [312.0, 46.0], [314.0, 44.0], [314.0, 43.0], [315.0, 42.0], [315.0, 41.0], [316.0, 40.0], [316.0, 39.0], [317.0, 38.0], [317.0, 36.0], [318.0, 35.0], [318.0, 33.0], [317.0, 32.0], [317.0, 31.0], [315.0, 29.0], [315.0, 28.0], [314.0, 28.0], [313.0, 27.0]]], 'mask_4': [[[476.0, 189.0], [475.0, 190.0], [468.0, 190.0], [467.0, 191.0], [460.0, 191.0], [459.0, 192.0], [453.0, 192.0], [452.0, 193.0], [447.0, 193.0], [446.0, 194.0], [441.0, 194.0], [440.0, 195.0], [437.0, 195.0], [436.0, 196.0], [433.0, 196.0], [432.0, 197.0], [431.0, 197.0], [430.0, 198.0], [429.0, 198.0], [423.0, 204.0], [423.0, 205.0], [422.0, 206.0], [422.0, 207.0], [421.0, 208.0], [421.0, 210.0], [420.0, 211.0], [420.0, 214.0], [419.0, 215.0], [419.0, 217.0], [418.0, 218.0], [418.0, 220.0], [417.0, 221.0], [417.0, 223.0], [416.0, 224.0], [416.0, 226.0], [415.0, 227.0], [415.0, 228.0], [414.0, 229.0], [414.0, 231.0], [413.0, 232.0], [413.0, 233.0], [412.0, 234.0], [412.0, 235.0], [411.0, 236.0], [411.0, 237.0], [410.0, 238.0], [410.0, 240.0], [409.0, 241.0], [409.0, 242.0], [408.0, 243.0], [408.0, 244.0], [407.0, 245.0], [407.0, 246.0], [405.0, 248.0], [405.0, 249.0], [404.0, 250.0], [404.0, 251.0], [402.0, 253.0], [402.0, 254.0], [401.0, 255.0], [401.0, 256.0], [399.0, 258.0], [399.0, 259.0], [396.0, 262.0], [396.0, 263.0], [393.0, 266.0], [393.0, 267.0], [390.0, 270.0], [390.0, 271.0], [385.0, 276.0], [385.0, 277.0], [360.0, 302.0], [359.0, 302.0], [351.0, 310.0], [350.0, 310.0], [345.0, 315.0], [344.0, 315.0], [341.0, 318.0], [340.0, 318.0], [337.0, 321.0], [336.0, 321.0], [334.0, 323.0], [334.0, 329.0], [337.0, 332.0], [340.0, 332.0], [341.0, 333.0], [349.0, 333.0], [350.0, 332.0], [358.0, 332.0], [359.0, 331.0], [366.0, 331.0], [367.0, 330.0], [373.0, 330.0], [374.0, 329.0], [379.0, 329.0], [380.0, 328.0], [385.0, 328.0], [386.0, 327.0], [390.0, 327.0], [391.0, 326.0], [395.0, 326.0], [396.0, 325.0], [400.0, 325.0], [401.0, 324.0], [405.0, 324.0], [406.0, 323.0], [410.0, 323.0], [411.0, 322.0], [414.0, 322.0], [415.0, 321.0], [419.0, 321.0], [420.0, 320.0], [423.0, 320.0], [424.0, 319.0], [427.0, 319.0], [428.0, 318.0], [431.0, 318.0], [432.0, 317.0], [435.0, 317.0], [436.0, 316.0], [439.0, 316.0], [440.0, 315.0], [443.0, 315.0], [444.0, 314.0], [446.0, 314.0], [447.0, 313.0], [450.0, 313.0], [451.0, 312.0], [454.0, 312.0], [455.0, 311.0], [457.0, 311.0], [458.0, 310.0], [461.0, 310.0], [462.0, 309.0], [464.0, 309.0], [465.0, 308.0], [468.0, 308.0], [469.0, 307.0], [471.0, 307.0], [472.0, 306.0], [475.0, 306.0], [476.0, 305.0], [478.0, 305.0], [479.0, 304.0], [481.0, 304.0], [482.0, 303.0], [485.0, 303.0], [486.0, 302.0], [488.0, 302.0], [489.0, 301.0], [491.0, 301.0], [492.0, 300.0], [494.0, 300.0], [495.0, 299.0], [497.0, 299.0], [498.0, 298.0], [500.0, 298.0], [501.0, 297.0], [503.0, 297.0], [504.0, 296.0], [509.0, 296.0], [510.0, 295.0], [511.0, 295.0], [511.0, 189.0]]], 'mask_0': [[[309.0, 25.0], [310.0, 24.0], [314.0, 24.0], [315.0, 25.0], [316.0, 25.0], [319.0, 28.0], [319.0, 29.0], [321.0, 31.0], [321.0, 35.0], [320.0, 36.0], [320.0, 38.0], [319.0, 39.0], [319.0, 42.0], [320.0, 43.0], [320.0, 45.0], [322.0, 47.0], [322.0, 48.0], [323.0, 49.0], [324.0, 49.0], [325.0, 50.0], [326.0, 50.0], [327.0, 51.0], [331.0, 51.0], [332.0, 52.0], [336.0, 52.0], [337.0, 53.0], [339.0, 53.0], [340.0, 54.0], [342.0, 54.0], [343.0, 55.0], [345.0, 55.0], [346.0, 56.0], [348.0, 56.0], [349.0, 57.0], [350.0, 57.0], [351.0, 58.0], [352.0, 58.0], [353.0, 59.0], [355.0, 59.0], [356.0, 60.0], [357.0, 60.0], [358.0, 61.0], [359.0, 61.0], [360.0, 62.0], [361.0, 62.0], [362.0, 63.0], [363.0, 63.0], [365.0, 65.0], [366.0, 65.0], [368.0, 67.0], [369.0, 67.0], [371.0, 69.0], [372.0, 69.0], [376.0, 73.0], [377.0, 73.0], [398.0, 94.0], [398.0, 95.0], [401.0, 98.0], [401.0, 99.0], [404.0, 102.0], [404.0, 103.0], [406.0, 105.0], [406.0, 106.0], [408.0, 108.0], [408.0, 109.0], [409.0, 110.0], [409.0, 111.0], [410.0, 112.0], [410.0, 113.0], [411.0, 114.0], [411.0, 115.0], [412.0, 116.0], [412.0, 117.0], [413.0, 118.0], [413.0, 119.0], [414.0, 120.0], [414.0, 121.0], [415.0, 122.0], [415.0, 124.0], [416.0, 125.0], [416.0, 126.0], [417.0, 127.0], [417.0, 129.0], [418.0, 130.0], [418.0, 132.0], [419.0, 133.0], [419.0, 136.0], [420.0, 137.0], [420.0, 139.0], [421.0, 140.0], [421.0, 144.0], [422.0, 145.0], [422.0, 149.0], [423.0, 150.0], [423.0, 156.0], [424.0, 157.0], [424.0, 167.0], [425.0, 168.0], [425.0, 198.0], [424.0, 199.0], [424.0, 202.0], [423.0, 203.0], [423.0, 206.0], [422.0, 207.0], [422.0, 209.0], [421.0, 210.0], [421.0, 212.0], [420.0, 213.0], [420.0, 215.0], [419.0, 216.0], [419.0, 219.0], [418.0, 220.0], [418.0, 222.0], [417.0, 223.0], [417.0, 224.0], [416.0, 225.0], [416.0, 227.0], [415.0, 228.0], [415.0, 229.0], [414.0, 230.0], [414.0, 232.0], [413.0, 233.0], [413.0, 234.0], [412.0, 235.0], [412.0, 236.0], [411.0, 237.0], [411.0, 238.0], [410.0, 239.0], [410.0, 240.0], [409.0, 241.0], [409.0, 242.0], [408.0, 243.0], [408.0, 244.0], [407.0, 245.0], [407.0, 246.0], [406.0, 247.0], [406.0, 248.0], [405.0, 249.0], [405.0, 250.0], [403.0, 252.0], [403.0, 253.0], [401.0, 255.0], [401.0, 256.0], [400.0, 257.0], [400.0, 258.0], [398.0, 260.0], [398.0, 261.0], [395.0, 264.0], [395.0, 265.0], [392.0, 268.0], [392.0, 269.0], [388.0, 273.0], [388.0, 274.0], [381.0, 281.0], [381.0, 282.0], [366.0, 297.0], [365.0, 297.0], [354.0, 308.0], [353.0, 308.0], [348.0, 313.0], [347.0, 313.0], [343.0, 317.0], [342.0, 317.0], [339.0, 320.0], [338.0, 320.0], [336.0, 322.0], [335.0, 322.0], [334.0, 323.0], [333.0, 323.0], [331.0, 325.0], [330.0, 325.0], [329.0, 326.0], [328.0, 326.0], [326.0, 328.0], [325.0, 328.0], [324.0, 329.0], [323.0, 329.0], [322.0, 330.0], [320.0, 330.0], [319.0, 331.0], [317.0, 331.0], [316.0, 332.0], [315.0, 332.0], [314.0, 333.0], [312.0, 333.0], [311.0, 334.0], [308.0, 334.0], [307.0, 335.0], [305.0, 335.0], [304.0, 336.0], [301.0, 336.0], [300.0, 337.0], [296.0, 337.0], [295.0, 338.0], [289.0, 338.0], [288.0, 339.0], [269.0, 339.0], [268.0, 338.0], [259.0, 338.0], [258.0, 337.0], [249.0, 337.0], [248.0, 336.0], [240.0, 336.0], [239.0, 335.0], [234.0, 335.0], [233.0, 334.0], [230.0, 334.0], [229.0, 333.0], [227.0, 333.0], [226.0, 332.0], [224.0, 332.0], [223.0, 331.0], [222.0, 331.0], [221.0, 330.0], [220.0, 330.0], [219.0, 329.0], [218.0, 329.0], [217.0, 328.0], [216.0, 328.0], [215.0, 327.0], [214.0, 327.0], [212.0, 325.0], [211.0, 325.0], [210.0, 324.0], [209.0, 324.0], [207.0, 322.0], [206.0, 322.0], [204.0, 320.0], [203.0, 320.0], [201.0, 318.0], [200.0, 318.0], [198.0, 316.0], [197.0, 316.0], [194.0, 313.0], [193.0, 313.0], [190.0, 310.0], [189.0, 310.0], [185.0, 306.0], [184.0, 306.0], [178.0, 300.0], [177.0, 300.0], [161.0, 284.0], [161.0, 283.0], [156.0, 278.0], [156.0, 277.0], [153.0, 274.0], [153.0, 273.0], [151.0, 271.0], [151.0, 270.0], [148.0, 267.0], [148.0, 266.0], [147.0, 265.0], [147.0, 264.0], [145.0, 262.0], [145.0, 261.0], [144.0, 260.0], [144.0, 259.0], [142.0, 257.0], [142.0, 256.0], [141.0, 255.0], [141.0, 254.0], [140.0, 253.0], [140.0, 252.0], [139.0, 251.0], [139.0, 250.0], [138.0, 249.0], [138.0, 248.0], [137.0, 247.0], [137.0, 246.0], [136.0, 245.0], [136.0, 244.0], [135.0, 243.0], [135.0, 241.0], [134.0, 240.0], [134.0, 239.0], [133.0, 238.0], [133.0, 236.0], [132.0, 235.0], [132.0, 233.0], [131.0, 232.0], [131.0, 230.0], [130.0, 229.0], [130.0, 228.0], [129.0, 227.0], [129.0, 224.0], [128.0, 223.0], [128.0, 221.0], [127.0, 220.0], [127.0, 217.0], [126.0, 216.0], [126.0, 213.0], [125.0, 212.0], [125.0, 210.0], [124.0, 209.0], [124.0, 205.0], [123.0, 204.0], [123.0, 201.0], [122.0, 200.0], [122.0, 194.0], [121.0, 193.0], [121.0, 179.0], [120.0, 178.0], [120.0, 169.0], [121.0, 168.0], [121.0, 160.0], [122.0, 159.0], [122.0, 149.0], [123.0, 148.0], [123.0, 143.0], [124.0, 142.0], [124.0, 139.0], [125.0, 138.0], [125.0, 135.0], [126.0, 134.0], [126.0, 132.0], [127.0, 131.0], [127.0, 129.0], [128.0, 128.0], [128.0, 126.0], [129.0, 125.0], [129.0, 123.0], [130.0, 122.0], [130.0, 121.0], [131.0, 120.0], [131.0, 118.0], [132.0, 117.0], [132.0, 116.0], [133.0, 115.0], [133.0, 114.0], [134.0, 113.0], [134.0, 112.0], [135.0, 111.0], [135.0, 110.0], [136.0, 109.0], [136.0, 108.0], [137.0, 107.0], [137.0, 106.0], [138.0, 105.0], [138.0, 104.0], [140.0, 102.0], [140.0, 101.0], [142.0, 99.0], [142.0, 98.0], [143.0, 97.0], [143.0, 96.0], [146.0, 93.0], [146.0, 92.0], [151.0, 87.0], [151.0, 86.0], [162.0, 75.0], [163.0, 75.0], [168.0, 70.0], [169.0, 70.0], [172.0, 67.0], [173.0, 67.0], [175.0, 65.0], [176.0, 65.0], [178.0, 63.0], [179.0, 63.0], [181.0, 61.0], [182.0, 61.0], [183.0, 60.0], [184.0, 60.0], [186.0, 58.0], [187.0, 58.0], [188.0, 57.0], [189.0, 57.0], [190.0, 56.0], [191.0, 56.0], [192.0, 55.0], [193.0, 55.0], [194.0, 54.0], [195.0, 54.0], [196.0, 53.0], [197.0, 53.0], [198.0, 52.0], [200.0, 52.0], [201.0, 51.0], [203.0, 51.0], [204.0, 50.0], [207.0, 50.0], [208.0, 49.0], [210.0, 49.0], [211.0, 48.0], [214.0, 48.0], [215.0, 47.0], [218.0, 47.0], [219.0, 46.0], [222.0, 46.0], [223.0, 45.0], [226.0, 45.0], [227.0, 44.0], [233.0, 44.0], [234.0, 43.0], [261.0, 43.0], [262.0, 44.0], [283.0, 44.0], [284.0, 45.0], [293.0, 45.0], [294.0, 44.0], [295.0, 44.0], [300.0, 39.0], [300.0, 38.0], [301.0, 37.0], [301.0, 34.0], [302.0, 33.0], [302.0, 32.0], [303.0, 31.0], [303.0, 30.0], [308.0, 25.0]], [[0.0, 0.0], [0.0, 383.0], [511.0, 383.0], [511.0, 0.0]]], 'mask_1': [[[235.0, 46.0], [234.0, 47.0], [227.0, 47.0], [226.0, 48.0], [222.0, 48.0], [221.0, 49.0], [217.0, 49.0], [216.0, 50.0], [213.0, 50.0], [212.0, 51.0], [209.0, 51.0], [208.0, 52.0], [206.0, 52.0], [205.0, 53.0], [203.0, 53.0], [202.0, 54.0], [200.0, 54.0], [199.0, 55.0], [198.0, 55.0], [197.0, 56.0], [195.0, 56.0], [194.0, 57.0], [193.0, 57.0], [192.0, 58.0], [191.0, 58.0], [190.0, 59.0], [189.0, 59.0], [188.0, 60.0], [187.0, 60.0], [186.0, 61.0], [185.0, 61.0], [183.0, 63.0], [182.0, 63.0], [181.0, 64.0], [180.0, 64.0], [178.0, 66.0], [177.0, 66.0], [174.0, 69.0], [173.0, 69.0], [170.0, 72.0], [169.0, 72.0], [164.0, 77.0], [163.0, 77.0], [152.0, 88.0], [152.0, 89.0], [148.0, 93.0], [148.0, 94.0], [145.0, 97.0], [145.0, 98.0], [143.0, 100.0], [143.0, 101.0], [141.0, 103.0], [141.0, 104.0], [140.0, 105.0], [140.0, 106.0], [139.0, 107.0], [139.0, 108.0], [138.0, 109.0], [138.0, 110.0], [137.0, 111.0], [137.0, 112.0], [136.0, 113.0], [136.0, 114.0], [135.0, 115.0], [135.0, 116.0], [134.0, 117.0], [134.0, 118.0], [133.0, 119.0], [133.0, 121.0], [132.0, 122.0], [132.0, 123.0], [131.0, 124.0], [131.0, 126.0], [130.0, 127.0], [130.0, 129.0], [129.0, 130.0], [129.0, 132.0], [128.0, 133.0], [128.0, 136.0], [127.0, 137.0], [127.0, 140.0], [126.0, 141.0], [126.0, 145.0], [125.0, 146.0], [125.0, 152.0], [124.0, 153.0], [124.0, 165.0], [123.0, 166.0], [123.0, 185.0], [124.0, 186.0], [124.0, 196.0], [125.0, 197.0], [125.0, 202.0], [126.0, 203.0], [126.0, 207.0], [127.0, 208.0], [127.0, 210.0], [128.0, 211.0], [128.0, 214.0], [129.0, 215.0], [129.0, 217.0], [130.0, 218.0], [130.0, 220.0], [131.0, 221.0], [131.0, 224.0], [132.0, 225.0], [132.0, 226.0], [133.0, 227.0], [133.0, 230.0], [134.0, 231.0], [134.0, 233.0], [135.0, 234.0], [135.0, 235.0], [136.0, 236.0], [136.0, 238.0], [137.0, 239.0], [137.0, 240.0], [138.0, 241.0], [138.0, 242.0], [139.0, 243.0], [139.0, 245.0], [140.0, 246.0], [140.0, 247.0], [141.0, 248.0], [141.0, 249.0], [142.0, 250.0], [142.0, 251.0], [143.0, 252.0], [143.0, 253.0], [144.0, 254.0], [144.0, 255.0], [146.0, 257.0], [146.0, 258.0], [147.0, 259.0], [147.0, 260.0], [149.0, 262.0], [149.0, 263.0], [150.0, 264.0], [150.0, 265.0], [152.0, 267.0], [152.0, 268.0], [154.0, 270.0], [154.0, 271.0], [157.0, 274.0], [157.0, 275.0], [160.0, 278.0], [160.0, 279.0], [167.0, 286.0], [167.0, 287.0], [173.0, 293.0], [174.0, 293.0], [182.0, 301.0], [183.0, 301.0], [188.0, 306.0], [189.0, 306.0], [192.0, 309.0], [193.0, 309.0], [196.0, 312.0], [197.0, 312.0], [199.0, 314.0], [200.0, 314.0], [202.0, 316.0], [203.0, 316.0], [205.0, 318.0], [206.0, 318.0], [208.0, 320.0], [209.0, 320.0], [211.0, 322.0], [212.0, 322.0], [214.0, 324.0], [215.0, 324.0], [216.0, 325.0], [217.0, 325.0], [218.0, 326.0], [219.0, 326.0], [220.0, 327.0], [221.0, 327.0], [222.0, 328.0], [223.0, 328.0], [224.0, 329.0], [226.0, 329.0], [227.0, 330.0], [229.0, 330.0], [230.0, 331.0], [234.0, 331.0], [235.0, 332.0], [241.0, 332.0], [242.0, 333.0], [248.0, 333.0], [249.0, 334.0], [260.0, 334.0], [261.0, 335.0], [292.0, 335.0], [293.0, 334.0], [298.0, 334.0], [299.0, 333.0], [302.0, 333.0], [303.0, 332.0], [306.0, 332.0], [307.0, 331.0], [310.0, 331.0], [311.0, 330.0], [313.0, 330.0], [314.0, 329.0], [316.0, 329.0], [317.0, 328.0], [319.0, 328.0], [320.0, 327.0], [321.0, 327.0], [322.0, 326.0], [323.0, 326.0], [324.0, 325.0], [325.0, 325.0], [326.0, 324.0], [327.0, 324.0], [329.0, 322.0], [330.0, 322.0], [331.0, 321.0], [332.0, 321.0], [334.0, 319.0], [335.0, 319.0], [337.0, 317.0], [338.0, 317.0], [341.0, 314.0], [342.0, 314.0], [346.0, 310.0], [347.0, 310.0], [352.0, 305.0], [353.0, 305.0], [363.0, 295.0], [364.0, 295.0], [380.0, 279.0], [380.0, 278.0], [386.0, 272.0], [386.0, 271.0], [390.0, 267.0], [390.0, 266.0], [393.0, 263.0], [393.0, 262.0], [395.0, 260.0], [395.0, 259.0], [397.0, 257.0], [397.0, 256.0], [399.0, 254.0], [399.0, 253.0], [401.0, 251.0], [401.0, 250.0], [402.0, 249.0], [402.0, 248.0], [404.0, 246.0], [404.0, 245.0], [405.0, 244.0], [405.0, 243.0], [406.0, 242.0], [406.0, 241.0], [407.0, 240.0], [407.0, 239.0], [408.0, 238.0], [408.0, 237.0], [409.0, 236.0], [409.0, 235.0], [410.0, 234.0], [410.0, 233.0], [411.0, 232.0], [411.0, 230.0], [412.0, 229.0], [412.0, 228.0], [413.0, 227.0], [413.0, 225.0], [414.0, 224.0], [414.0, 222.0], [415.0, 221.0], [415.0, 219.0], [416.0, 218.0], [416.0, 216.0], [417.0, 215.0], [417.0, 212.0], [418.0, 211.0], [418.0, 208.0], [419.0, 207.0], [419.0, 204.0], [420.0, 203.0], [420.0, 200.0], [421.0, 199.0], [421.0, 193.0], [422.0, 192.0], [422.0, 168.0], [421.0, 167.0], [421.0, 157.0], [420.0, 156.0], [420.0, 149.0], [419.0, 148.0], [419.0, 143.0], [418.0, 142.0], [418.0, 139.0], [417.0, 138.0], [417.0, 135.0], [416.0, 134.0], [416.0, 132.0], [415.0, 131.0], [415.0, 130.0], [414.0, 129.0], [414.0, 127.0], [413.0, 126.0], [413.0, 124.0], [412.0, 123.0], [412.0, 122.0], [411.0, 121.0], [411.0, 119.0], [410.0, 118.0], [410.0, 117.0], [409.0, 116.0], [409.0, 115.0], [408.0, 114.0], [408.0, 113.0], [407.0, 112.0], [407.0, 111.0], [405.0, 109.0], [405.0, 108.0], [404.0, 107.0], [404.0, 106.0], [401.0, 103.0], [401.0, 102.0], [399.0, 100.0], [399.0, 99.0], [395.0, 95.0], [395.0, 94.0], [388.0, 87.0], [388.0, 86.0], [382.0, 80.0], [381.0, 80.0], [375.0, 74.0], [374.0, 74.0], [371.0, 71.0], [370.0, 71.0], [368.0, 69.0], [367.0, 69.0], [365.0, 67.0], [364.0, 67.0], [363.0, 66.0], [362.0, 66.0], [360.0, 64.0], [359.0, 64.0], [358.0, 63.0], [357.0, 63.0], [356.0, 62.0], [355.0, 62.0], [354.0, 61.0], [352.0, 61.0], [351.0, 60.0], [350.0, 60.0], [349.0, 59.0], [347.0, 59.0], [346.0, 58.0], [345.0, 58.0], [344.0, 57.0], [342.0, 57.0], [341.0, 56.0], [338.0, 56.0], [337.0, 55.0], [335.0, 55.0], [334.0, 54.0], [331.0, 54.0], [330.0, 53.0], [326.0, 53.0], [325.0, 52.0], [317.0, 52.0], [316.0, 53.0], [315.0, 53.0], [314.0, 54.0], [313.0, 54.0], [309.0, 58.0], [308.0, 58.0], [307.0, 59.0], [306.0, 59.0], [305.0, 60.0], [302.0, 60.0], [301.0, 59.0], [301.0, 58.0], [296.0, 53.0], [296.0, 52.0], [293.0, 49.0], [292.0, 49.0], [291.0, 48.0], [290.0, 48.0], [289.0, 47.0], [261.0, 47.0], [260.0, 46.0]]], 'mask_2': [[[0.0, 0.0], [0.0, 221.0], [2.0, 221.0], [3.0, 222.0], [11.0, 222.0], [12.0, 223.0], [18.0, 223.0], [19.0, 224.0], [26.0, 224.0], [27.0, 225.0], [37.0, 225.0], [38.0, 226.0], [59.0, 226.0], [60.0, 227.0], [75.0, 227.0], [76.0, 228.0], [90.0, 228.0], [91.0, 229.0], [99.0, 229.0], [100.0, 230.0], [107.0, 230.0], [108.0, 231.0], [113.0, 231.0], [114.0, 232.0], [121.0, 232.0], [126.0, 227.0], [126.0, 226.0], [127.0, 225.0], [127.0, 222.0], [126.0, 221.0], [126.0, 219.0], [125.0, 218.0], [125.0, 214.0], [124.0, 213.0], [124.0, 210.0], [123.0, 209.0], [123.0, 205.0], [122.0, 204.0], [122.0, 198.0], [121.0, 197.0], [121.0, 190.0], [120.0, 189.0], [120.0, 161.0], [121.0, 160.0], [121.0, 152.0], [122.0, 151.0], [122.0, 145.0], [123.0, 144.0], [123.0, 140.0], [124.0, 139.0], [124.0, 136.0], [125.0, 135.0], [125.0, 133.0], [126.0, 132.0], [126.0, 130.0], [127.0, 129.0], [127.0, 127.0], [128.0, 126.0], [128.0, 124.0], [129.0, 123.0], [129.0, 122.0], [130.0, 121.0], [130.0, 120.0], [131.0, 119.0], [131.0, 117.0], [132.0, 116.0], [132.0, 115.0], [133.0, 114.0], [133.0, 113.0], [134.0, 112.0], [134.0, 111.0], [135.0, 110.0], [135.0, 109.0], [136.0, 108.0], [136.0, 107.0], [137.0, 106.0], [137.0, 105.0], [139.0, 103.0], [139.0, 102.0], [140.0, 101.0], [140.0, 100.0], [142.0, 98.0], [142.0, 97.0], [144.0, 95.0], [144.0, 94.0], [148.0, 90.0], [148.0, 89.0], [164.0, 73.0], [165.0, 73.0], [169.0, 69.0], [170.0, 69.0], [173.0, 66.0], [174.0, 66.0], [176.0, 64.0], [177.0, 64.0], [179.0, 62.0], [180.0, 62.0], [182.0, 60.0], [183.0, 60.0], [184.0, 59.0], [185.0, 59.0], [187.0, 57.0], [188.0, 57.0], [189.0, 56.0], [190.0, 56.0], [191.0, 55.0], [192.0, 55.0], [193.0, 54.0], [194.0, 54.0], [195.0, 53.0], [197.0, 53.0], [198.0, 52.0], [200.0, 52.0], [201.0, 51.0], [203.0, 51.0], [204.0, 50.0], [206.0, 50.0], [207.0, 49.0], [209.0, 49.0], [210.0, 48.0], [213.0, 48.0], [214.0, 47.0], [216.0, 47.0], [217.0, 46.0], [220.0, 46.0], [221.0, 45.0], [225.0, 45.0], [226.0, 44.0], [231.0, 44.0], [232.0, 43.0], [263.0, 43.0], [264.0, 44.0], [285.0, 44.0], [286.0, 45.0], [293.0, 45.0], [294.0, 44.0], [295.0, 44.0], [300.0, 39.0], [300.0, 38.0], [301.0, 37.0], [301.0, 34.0], [302.0, 33.0], [302.0, 32.0], [304.0, 30.0], [304.0, 29.0], [308.0, 25.0], [309.0, 25.0], [310.0, 24.0], [313.0, 24.0], [314.0, 25.0], [315.0, 25.0], [320.0, 30.0], [320.0, 37.0], [319.0, 38.0], [319.0, 42.0], [320.0, 43.0], [320.0, 45.0], [322.0, 47.0], [322.0, 48.0], [323.0, 49.0], [324.0, 49.0], [325.0, 50.0], [328.0, 50.0], [329.0, 51.0], [332.0, 51.0], [333.0, 52.0], [336.0, 52.0], [337.0, 53.0], [340.0, 53.0], [341.0, 54.0], [343.0, 54.0], [344.0, 55.0], [346.0, 55.0], [347.0, 56.0], [348.0, 56.0], [349.0, 57.0], [351.0, 57.0], [352.0, 58.0], [353.0, 58.0], [354.0, 59.0], [355.0, 59.0], [356.0, 60.0], [357.0, 60.0], [358.0, 61.0], [359.0, 61.0], [360.0, 62.0], [362.0, 62.0], [364.0, 64.0], [365.0, 64.0], [366.0, 65.0], [367.0, 65.0], [369.0, 67.0], [370.0, 67.0], [372.0, 69.0], [373.0, 69.0], [377.0, 73.0], [378.0, 73.0], [396.0, 91.0], [396.0, 92.0], [400.0, 96.0], [400.0, 97.0], [403.0, 100.0], [403.0, 101.0], [406.0, 104.0], [406.0, 105.0], [407.0, 106.0], [407.0, 107.0], [408.0, 108.0], [408.0, 109.0], [410.0, 111.0], [410.0, 112.0], [411.0, 113.0], [411.0, 114.0], [412.0, 115.0], [412.0, 116.0], [413.0, 117.0], [413.0, 119.0], [414.0, 120.0], [414.0, 121.0], [415.0, 122.0], [415.0, 123.0], [416.0, 124.0], [416.0, 126.0], [417.0, 127.0], [417.0, 129.0], [418.0, 130.0], [418.0, 131.0], [419.0, 132.0], [419.0, 135.0], [420.0, 136.0], [420.0, 139.0], [421.0, 140.0], [421.0, 143.0], [422.0, 144.0], [422.0, 148.0], [423.0, 149.0], [423.0, 154.0], [424.0, 155.0], [424.0, 162.0], [425.0, 163.0], [425.0, 185.0], [426.0, 186.0], [426.0, 187.0], [431.0, 192.0], [432.0, 192.0], [433.0, 193.0], [438.0, 193.0], [439.0, 192.0], [443.0, 192.0], [444.0, 191.0], [448.0, 191.0], [449.0, 190.0], [454.0, 190.0], [455.0, 189.0], [461.0, 189.0], [462.0, 188.0], [469.0, 188.0], [470.0, 187.0], [485.0, 187.0], [486.0, 186.0], [499.0, 186.0], [500.0, 187.0], [511.0, 187.0], [511.0, 0.0]]], 'mask_3': [[[0.0, 225.0], [0.0, 383.0], [511.0, 383.0], [511.0, 297.0], [508.0, 297.0], [507.0, 298.0], [503.0, 298.0], [502.0, 299.0], [500.0, 299.0], [499.0, 300.0], [497.0, 300.0], [496.0, 301.0], [494.0, 301.0], [493.0, 302.0], [491.0, 302.0], [490.0, 303.0], [488.0, 303.0], [487.0, 304.0], [485.0, 304.0], [484.0, 305.0], [482.0, 305.0], [481.0, 306.0], [478.0, 306.0], [477.0, 307.0], [475.0, 307.0], [474.0, 308.0], [471.0, 308.0], [470.0, 309.0], [468.0, 309.0], [467.0, 310.0], [465.0, 310.0], [464.0, 311.0], [461.0, 311.0], [460.0, 312.0], [458.0, 312.0], [457.0, 313.0], [454.0, 313.0], [453.0, 314.0], [450.0, 314.0], [449.0, 315.0], [446.0, 315.0], [445.0, 316.0], [442.0, 316.0], [441.0, 317.0], [439.0, 317.0], [438.0, 318.0], [435.0, 318.0], [434.0, 319.0], [431.0, 319.0], [430.0, 320.0], [427.0, 320.0], [426.0, 321.0], [423.0, 321.0], [422.0, 322.0], [418.0, 322.0], [417.0, 323.0], [414.0, 323.0], [413.0, 324.0], [410.0, 324.0], [409.0, 325.0], [405.0, 325.0], [404.0, 326.0], [400.0, 326.0], [399.0, 327.0], [396.0, 327.0], [395.0, 328.0], [391.0, 328.0], [390.0, 329.0], [385.0, 329.0], [384.0, 330.0], [379.0, 330.0], [378.0, 331.0], [373.0, 331.0], [372.0, 332.0], [366.0, 332.0], [365.0, 333.0], [360.0, 333.0], [359.0, 334.0], [353.0, 334.0], [352.0, 335.0], [344.0, 335.0], [343.0, 336.0], [332.0, 336.0], [331.0, 337.0], [318.0, 337.0], [317.0, 338.0], [294.0, 338.0], [293.0, 339.0], [268.0, 339.0], [267.0, 338.0], [258.0, 338.0], [257.0, 337.0], [249.0, 337.0], [248.0, 336.0], [241.0, 336.0], [240.0, 335.0], [235.0, 335.0], [234.0, 334.0], [230.0, 334.0], [229.0, 333.0], [227.0, 333.0], [226.0, 332.0], [224.0, 332.0], [223.0, 331.0], [222.0, 331.0], [221.0, 330.0], [220.0, 330.0], [219.0, 329.0], [218.0, 329.0], [217.0, 328.0], [216.0, 328.0], [215.0, 327.0], [214.0, 327.0], [213.0, 326.0], [212.0, 326.0], [210.0, 324.0], [209.0, 324.0], [208.0, 323.0], [207.0, 323.0], [205.0, 321.0], [204.0, 321.0], [202.0, 319.0], [201.0, 319.0], [199.0, 317.0], [198.0, 317.0], [196.0, 315.0], [195.0, 315.0], [192.0, 312.0], [191.0, 312.0], [188.0, 309.0], [187.0, 309.0], [183.0, 305.0], [182.0, 305.0], [176.0, 299.0], [175.0, 299.0], [157.0, 281.0], [157.0, 280.0], [153.0, 276.0], [153.0, 275.0], [150.0, 272.0], [150.0, 271.0], [148.0, 269.0], [148.0, 268.0], [145.0, 265.0], [145.0, 264.0], [144.0, 263.0], [144.0, 262.0], [142.0, 260.0], [142.0, 259.0], [141.0, 258.0], [141.0, 257.0], [140.0, 256.0], [140.0, 255.0], [138.0, 253.0], [138.0, 252.0], [137.0, 251.0], [137.0, 250.0], [136.0, 249.0], [136.0, 248.0], [135.0, 247.0], [135.0, 246.0], [128.0, 239.0], [127.0, 239.0], [125.0, 237.0], [124.0, 237.0], [123.0, 236.0], [119.0, 236.0], [118.0, 235.0], [110.0, 235.0], [109.0, 234.0], [104.0, 234.0], [103.0, 233.0], [95.0, 233.0], [94.0, 232.0], [85.0, 232.0], [84.0, 231.0], [74.0, 231.0], [73.0, 230.0], [57.0, 230.0], [56.0, 229.0], [38.0, 229.0], [37.0, 228.0], [28.0, 228.0], [27.0, 227.0], [19.0, 227.0], [18.0, 226.0], [11.0, 226.0], [10.0, 225.0]]]}\n"
     ]
    },
    {
     "ename": "ValueError",
     "evalue": "dictionary update sequence element #0 has length 1; 2 is required",
     "output_type": "error",
     "traceback": [
      "\u001b[0;31m---------------------------------------------------------------------------\u001b[0m",
      "\u001b[0;31mValueError\u001b[0m                                Traceback (most recent call last)",
      "Cell \u001b[0;32mIn[100], line 61\u001b[0m\n\u001b[1;32m     57\u001b[0m         \u001b[38;5;28mprint\u001b[39m(\u001b[38;5;124m\"\u001b[39m\u001b[38;5;124m prediction:\u001b[39m\u001b[38;5;124m\"\u001b[39m, \u001b[38;5;28mdict\u001b[39m(prediction))\n\u001b[1;32m     58\u001b[0m     \u001b[38;5;28;01mreturn\u001b[39;00m endpoint, response\n\u001b[0;32m---> 61\u001b[0m endpoint, response \u001b[38;5;241m=\u001b[39m \u001b[43mpredict_custom_trained_model_sample\u001b[49m\u001b[43m(\u001b[49m\n\u001b[1;32m     62\u001b[0m \u001b[43m    \u001b[49m\u001b[43mproject\u001b[49m\u001b[38;5;241;43m=\u001b[39;49m\u001b[38;5;124;43m\"\u001b[39;49m\u001b[38;5;124;43m633534855904\u001b[39;49m\u001b[38;5;124;43m\"\u001b[39;49m\u001b[43m,\u001b[49m\n\u001b[1;32m     63\u001b[0m \u001b[43m    \u001b[49m\u001b[43mendpoint_id\u001b[49m\u001b[38;5;241;43m=\u001b[39;49m\u001b[38;5;124;43m\"\u001b[39;49m\u001b[38;5;124;43m1619791733946580992\u001b[39;49m\u001b[38;5;124;43m\"\u001b[39;49m\u001b[43m,\u001b[49m\n\u001b[1;32m     64\u001b[0m \u001b[43m    \u001b[49m\u001b[43minstances\u001b[49m\u001b[38;5;241;43m=\u001b[39;49m\u001b[43mjs\u001b[49m\u001b[43m[\u001b[49m\u001b[38;5;124;43m'\u001b[39;49m\u001b[38;5;124;43minstances\u001b[39;49m\u001b[38;5;124;43m'\u001b[39;49m\u001b[43m]\u001b[49m\n\u001b[1;32m     65\u001b[0m \u001b[43m)\u001b[49m\n\u001b[1;32m     66\u001b[0m \u001b[38;5;66;03m# [END aiplatform_predict_custom_trained_model_sample]\u001b[39;00m\n",
      "Cell \u001b[0;32mIn[100], line 57\u001b[0m, in \u001b[0;36mpredict_custom_trained_model_sample\u001b[0;34m(project, endpoint_id, instances, location, api_endpoint)\u001b[0m\n\u001b[1;32m     55\u001b[0m predictions \u001b[38;5;241m=\u001b[39m response\u001b[38;5;241m.\u001b[39mpredictions\n\u001b[1;32m     56\u001b[0m \u001b[38;5;28;01mfor\u001b[39;00m prediction \u001b[38;5;129;01min\u001b[39;00m predictions:\n\u001b[0;32m---> 57\u001b[0m     \u001b[38;5;28mprint\u001b[39m(\u001b[38;5;124m\"\u001b[39m\u001b[38;5;124m prediction:\u001b[39m\u001b[38;5;124m\"\u001b[39m, \u001b[38;5;28;43mdict\u001b[39;49m\u001b[43m(\u001b[49m\u001b[43mprediction\u001b[49m\u001b[43m)\u001b[49m)\n\u001b[1;32m     58\u001b[0m \u001b[38;5;28;01mreturn\u001b[39;00m endpoint, response\n",
      "\u001b[0;31mValueError\u001b[0m: dictionary update sequence element #0 has length 1; 2 is required"
     ]
    }
   ],
   "source": [
    "# # Copyright 2020 Google LLC\n",
    "# #\n",
    "# # Licensed under the Apache License, Version 2.0 (the \"License\");\n",
    "# # you may not use this file except in compliance with the License.\n",
    "# # You may obtain a copy of the License at\n",
    "# #\n",
    "# #     https://www.apache.org/licenses/LICENSE-2.0\n",
    "# #\n",
    "# # Unless required by applicable law or agreed to in writing, software\n",
    "# # distributed under the License is distributed on an \"AS IS\" BASIS,\n",
    "# # WITHOUT WARRANTIES OR CONDITIONS OF ANY KIND, either express or implied.\n",
    "# # See the License for the specific language governing permissions and\n",
    "# # limitations under the License.\n",
    "\n",
    "# # [START aiplatform_predict_custom_trained_model_sample]\n",
    "# from typing import Dict, List, Union\n",
    "\n",
    "# from google.cloud import aiplatform\n",
    "# from google.protobuf import json_format\n",
    "# from google.protobuf.struct_pb2 import Value\n",
    "\n",
    "\n",
    "# def predict_custom_trained_model_sample(\n",
    "#     project: str,\n",
    "#     endpoint_id: str,\n",
    "#     instances: Union[Dict, List[Dict]],\n",
    "#     location: str = \"us-west1\",\n",
    "#     api_endpoint: str = \"us-west1-aiplatform.googleapis.com\",\n",
    "# ):\n",
    "#     \"\"\"\n",
    "#     `instances` can be either single instance of type dict or a list\n",
    "#     of instances.\n",
    "#     \"\"\"\n",
    "#     # The AI Platform services require regional API endpoints.\n",
    "#     client_options = {\"api_endpoint\": api_endpoint}\n",
    "#     # Initialize client that will be used to create and send requests.\n",
    "#     # This client only needs to be created once, and can be reused for multiple requests.\n",
    "#     client = aiplatform.gapic.PredictionServiceClient(client_options=client_options)\n",
    "#     # The format of each instance should conform to the deployed model's prediction input schema.\n",
    "#     instances = instances if isinstance(instances, list) else [instances]\n",
    "#     instances = [\n",
    "#         json_format.ParseDict(instance_dict, Value()) for instance_dict in instances\n",
    "#     ]\n",
    "#     parameters_dict = {}\n",
    "#     parameters = json_format.ParseDict(parameters_dict, Value())\n",
    "#     endpoint = client.endpoint_path(\n",
    "#         project=project, location=location, endpoint=endpoint_id\n",
    "#     )\n",
    "#     response = client.predict(\n",
    "#         endpoint=endpoint, instances=instances, parameters=parameters\n",
    "#     )\n",
    "#     print(\"response\")\n",
    "#     print(\" deployed_model_id:\", response.deployed_model_id)\n",
    "#     # The predictions are a google.protobuf.Value representation of the model's predictions.\n",
    "#     predictions = response.predictions\n",
    "#     for prediction in predictions:\n",
    "#         print(\" prediction:\", dict(prediction))\n",
    "#     return endpoint, response\n",
    "\n",
    "\n",
    "# endpoint, response = predict_custom_trained_model_sample(\n",
    "#     project=\"633534855904\",\n",
    "#     endpoint_id=\"1619791733946580992\",\n",
    "#     instances=js['instances']\n",
    "# )\n",
    "# # [END aiplatform_predict_custom_trained_model_sample]\n"
   ]
  }
 ],
 "metadata": {
  "environment": {
   "kernel": "python3",
   "name": "pytorch-gpu.1-13.m111",
   "type": "gcloud",
   "uri": "gcr.io/deeplearning-platform-release/pytorch-gpu.1-13:m111"
  },
  "kernelspec": {
   "display_name": "Python 3",
   "language": "python",
   "name": "python3"
  },
  "language_info": {
   "codemirror_mode": {
    "name": "ipython",
    "version": 3
   },
   "file_extension": ".py",
   "mimetype": "text/x-python",
   "name": "python",
   "nbconvert_exporter": "python",
   "pygments_lexer": "ipython3",
   "version": "3.10.12"
  }
 },
 "nbformat": 4,
 "nbformat_minor": 5
}
