{
 "cells": [
  {
   "cell_type": "markdown",
   "id": "c61e7755-a5b9-45b8-b772-17c0b949fc21",
   "metadata": {},
   "source": [
    "## **Build Custom Container with Custom prediction Routine and push it to Artifacts Registry**"
   ]
  },
  {
   "cell_type": "code",
   "execution_count": 7,
   "id": "e983dff6-156b-45a3-b6b9-a1baae36109c",
   "metadata": {},
   "outputs": [],
   "source": [
    "from google.cloud.aiplatform.prediction import LocalModel \n",
    "from src.custom_sam_predictor import CustomSamPredictor \n",
    "import os\n",
    "import logging"
   ]
  },
  {
   "cell_type": "code",
   "execution_count": 8,
   "id": "d8f55781-950b-45c4-b0b5-ef420e18d869",
   "metadata": {},
   "outputs": [],
   "source": [
    "logging.basicConfig(level=logging.INFO)"
   ]
  },
  {
   "cell_type": "code",
   "execution_count": 10,
   "id": "ad7d3ab1-df09-401f-97af-6a3803e8db82",
   "metadata": {},
   "outputs": [],
   "source": [
    "USER_SRC_DIR = \"src\" # @param {type:\"string\"} source code directory name\n",
    "\n",
    "\"\"\" Replace it with the region you will be working in on GCP \"\"\"\n",
    "REGION = \"us-west1\" # @param {type:\"string\"} region\n",
    "\n",
    "\"\"\" Replace it with your Repository name \"\"\"\n",
    "REPOSITORY = \"sam-container\"  # @param {type:\"string\"} Artifacts registry repository name\n",
    "\n",
    "\"\"\" Replace it with your PROJECT ID \"\"\"\n",
    "PROJECT_ID = \"ml-ops-segment-anything\" # @param {type:\"string\"} GCP project ID\n",
    "\n",
    "IMAGE = \"sam-cpr-container\"  # @param {type:\"string\"} Custom Container name\n",
    "\n",
    "LOCAL_MODEL_ARTIFACTS_DIR = \"model_artifacts\" # @param {type:\"string\"} Directory with model artifacts, Required for local deployment"
   ]
  },
  {
   "cell_type": "code",
   "execution_count": 11,
   "id": "2c1925e4-c7b7-4d14-903d-17ef98676db1",
   "metadata": {},
   "outputs": [
    {
     "name": "stdout",
     "output_type": "stream",
     "text": [
      "Total reclaimed space: 0B\n"
     ]
    }
   ],
   "source": [
    "\"\"\" Remove all unused containers \"\"\"\n",
    "!docker system prune -f"
   ]
  },
  {
   "cell_type": "markdown",
   "id": "ea2ed84e-2297-4066-a1ef-c75616bf1f0d",
   "metadata": {},
   "source": [
    "#### **Build custom container**"
   ]
  },
  {
   "cell_type": "code",
   "execution_count": 20,
   "id": "33d7dc12-d578-4bcf-8c6c-b7d37a905deb",
   "metadata": {},
   "outputs": [],
   "source": [
    "\"\"\" Build custom docker container \"\"\"\n",
    "local_model = LocalModel.build_cpr_model(\n",
    "    USER_SRC_DIR,\n",
    "    f\"{REGION}-docker.pkg.dev/{PROJECT_ID}/{REPOSITORY}/{IMAGE}\",\n",
    "    predictor=CustomSamPredictor,\n",
    "    requirements_path=os.path.join(USER_SRC_DIR, \"requirements.txt\"),\n",
    "    base_image= \"pytorch/pytorch:1.13.1-cuda11.6-cudnn8-runtime\" # Base image from docker hub\n",
    ")"
   ]
  },
  {
   "cell_type": "code",
   "execution_count": 13,
   "id": "8bfb9c6f-33d9-4b22-9b97-37dfcdc89a1d",
   "metadata": {},
   "outputs": [
    {
     "data": {
      "text/plain": [
       "image_uri: \"us-west1-docker.pkg.dev/ml-ops-segment-anything/sam-container/sam-cpr-container\"\n",
       "predict_route: \"/predict\"\n",
       "health_route: \"/health\""
      ]
     },
     "execution_count": 13,
     "metadata": {},
     "output_type": "execute_result"
    }
   ],
   "source": [
    "local_model.get_serving_container_spec()"
   ]
  },
  {
   "cell_type": "code",
   "execution_count": 14,
   "id": "740347f2-68e5-4cc7-a670-b6fe34208d0f",
   "metadata": {},
   "outputs": [],
   "source": [
    "\"\"\" INPUT JSON file to test ENDPOINT \"\"\"\n",
    "INPUT_FILE_WITH_PROMPTS = \"/home/jupyter/ml-ops-segment-anything/vertexAI_online_predictions/input_with_prompts.jsonl\"\n",
    "INPUT_FILE_WITHOUT_PROMPTS = \"/home/jupyter/ml-ops-segment-anything/vertexAI_online_predictions/input_without_prompts.jsonl\""
   ]
  },
  {
   "cell_type": "markdown",
   "id": "e3528629-34d1-47ea-9c3a-32d9808ee664",
   "metadata": {},
   "source": [
    "#### **Deploying Locally**"
   ]
  },
  {
   "cell_type": "code",
   "execution_count": 29,
   "id": "15261dc6-04b1-4bce-a7f9-00a9d042ce9f",
   "metadata": {},
   "outputs": [
    {
     "name": "stderr",
     "output_type": "stream",
     "text": [
      "INFO:google.cloud.aiplatform.prediction.local_endpoint:Got the project id from the global config: ml-ops-segment-anything.\n"
     ]
    },
    {
     "name": "stdout",
     "output_type": "stream",
     "text": [
      "predicting\n"
     ]
    }
   ],
   "source": [
    "\"\"\" Deploying the model locally and simultaneously hitting the endpoint \"\"\"\n",
    "\n",
    "with local_model.deploy_to_local_endpoint(\n",
    "    artifact_uri=f\"{LOCAL_MODEL_ARTIFACTS_DIR}\",\n",
    "    gpu_count=1\n",
    "    \n",
    ") as local_endpoint:\n",
    "    print(\"predicting\")\n",
    "    predict_response = local_endpoint.predict(\n",
    "        request_file=INPUT_FILE_WITH_PROMPTS,\n",
    "        headers={\"Content-Type\": \"application/json\"},\n",
    "    )\n",
    "\n",
    "    health_check_response = local_endpoint.run_health_check()"
   ]
  },
  {
   "cell_type": "code",
   "execution_count": 15,
   "id": "33142b95-86db-4d2f-9ebd-9bd52d8e2837",
   "metadata": {},
   "outputs": [],
   "source": [
    "\"\"\" Printing model response \"\"\"\n",
    "print(predict_response.json())"
   ]
  },
  {
   "cell_type": "code",
   "execution_count": 18,
   "id": "f23e03cb-329d-4c69-bdeb-e7f76129d2a3",
   "metadata": {},
   "outputs": [],
   "source": [
    "\"\"\" Push the container to ARTIFACTS REGISTRY \"\"\"\n",
    "local_model.push_image()"
   ]
  },
  {
   "cell_type": "markdown",
   "id": "237a608b-71d1-45bc-88cf-6c6ac0915f9a",
   "metadata": {},
   "source": [
    "### **Testing the ENDPOINT**"
   ]
  },
  {
   "cell_type": "code",
   "execution_count": 19,
   "id": "d5e9adc4-6c8c-4f0e-804f-848b010997e5",
   "metadata": {},
   "outputs": [],
   "source": [
    "\"\"\" Making a curl call to make sure the endpoint is working \n",
    "Replace\n",
    "    PROJECT_ID, ENDPOINT_ID and INPUT_DATA_FILE with the correct values after deployment \n",
    "\"\"\"\n",
    "!curl \\\n",
    "-X POST \\\n",
    "-H \"Authorization: Bearer $(gcloud auth print-access-token)\" \\\n",
    "-H \"Content-Type: application/json\" \\\n",
    "https://us-west1-aiplatform.googleapis.com/v1/projects/${PROJECT_ID}/locations/us-west1/endpoints/${ENDPOINT_ID}:predict \\\n",
    "-d \"@${INPUT_DATA_FILE}\""
   ]
  }
 ],
 "metadata": {
  "environment": {
   "kernel": "python3",
   "name": "pytorch-gpu.1-13.m108",
   "type": "gcloud",
   "uri": "gcr.io/deeplearning-platform-release/pytorch-gpu.1-13:m108"
  },
  "kernelspec": {
   "display_name": "Python 3",
   "language": "python",
   "name": "python3"
  },
  "language_info": {
   "codemirror_mode": {
    "name": "ipython",
    "version": 3
   },
   "file_extension": ".py",
   "mimetype": "text/x-python",
   "name": "python",
   "nbconvert_exporter": "python",
   "pygments_lexer": "ipython3",
   "version": "3.10.10"
  }
 },
 "nbformat": 4,
 "nbformat_minor": 5
}
