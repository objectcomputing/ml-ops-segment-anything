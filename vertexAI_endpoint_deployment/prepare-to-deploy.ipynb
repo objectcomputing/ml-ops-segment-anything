{
 "cells": [
  {
   "cell_type": "markdown",
   "id": "b820f7bb-bee2-4419-babf-3ea95431d6ac",
   "metadata": {},
   "source": [
    "# Containerization and Deployment"
   ]
  },
  {
   "cell_type": "code",
   "execution_count": 3,
   "id": "6cc18b8b-1a6b-4b37-b83c-8d8cb562b187",
   "metadata": {},
   "outputs": [],
   "source": [
    "import logging\n",
    "\n",
    "logging.basicConfig(level=logging.INFO)"
   ]
  },
  {
   "cell_type": "code",
   "execution_count": 4,
   "id": "2c860eea-2228-49ef-ba40-45ec67e12ed7",
   "metadata": {},
   "outputs": [],
   "source": [
    "MODEL_ARTIFACT_DIR = \"ViT-B\"  # @param {type:\"string\"}\n",
    "MODEL_DISPLAY_NAME = \"sam-vitB\"  # @param {type:\"string\"}\n",
    "USER_SRC_DIR = \"src\"\n",
    "LOCAL_MODEL_ARTIFACTS_DIR = \"model_artifacts\"\n",
    "MODEL_NAME = \"sam_vit_b_01ec64.pth\""
   ]
  },
  {
   "cell_type": "code",
   "execution_count": 5,
   "id": "e51479d7-06c9-4f1c-9736-23058c10a563",
   "metadata": {},
   "outputs": [
    {
     "name": "stdout",
     "output_type": "stream",
     "text": [
      "Overwriting src/requirements.txt\n"
     ]
    }
   ],
   "source": [
    "%%writefile $USER_SRC_DIR/requirements.txt\n",
    "fastapi\n",
    "uvicorn==0.19.0\n",
    "torch==1.13.1\n",
    "google-cloud-storage==2.9.0\n",
    "google-cloud-aiplatform==1.26.0\n",
    "segment-anything\n",
    "torchvision\n",
    "opencv-python-headless"
   ]
  },
  {
   "cell_type": "markdown",
   "id": "c448aa92-4598-4a52-b695-3e12ada69b75",
   "metadata": {},
   "source": [
    "# sam custom prediction routine"
   ]
  },
  {
   "cell_type": "code",
   "execution_count": 6,
   "id": "e8cd05a3-69d9-4fd7-b798-d9606e156051",
   "metadata": {},
   "outputs": [
    {
     "name": "stdout",
     "output_type": "stream",
     "text": [
      "Overwriting src/custom_sam_predictor.py\n"
     ]
    }
   ],
   "source": [
    "%%writefile $USER_SRC_DIR/custom_sam_predictor.py\n",
    "import torch\n",
    "from typing import Dict, List\n",
    "from google.cloud.aiplatform.prediction.predictor import Predictor\n",
    "from google.cloud.aiplatform.utils import prediction_utils\n",
    "from segment_anything import sam_model_registry, SamPredictor, SamAutomaticMaskGenerator\n",
    "import base64\n",
    "import numpy as np\n",
    "import cv2\n",
    "import logging\n",
    "\n",
    "# custom prediction routine\n",
    "class CustomSamPredictor(Predictor):\n",
    "\n",
    "    def __init__(self):\n",
    "        super().__init__()\n",
    "        #self.predictor = None #uncomment to mask with prompts\n",
    "        self.mask_generator = None #uncomment to mask without prompts\n",
    "        self.sam = None\n",
    "        self.model_type = \"vit_b\"\n",
    "        self.device = \"cuda\"\n",
    "        self.mask_with_prompts = True\n",
    "        logging.basicConfig(level=logging.INFO)\n",
    "    \n",
    "    # Load the model\n",
    "    def load(self, artifacts_uri: str):\n",
    "        \"\"\"Loads the model artifacts.\"\"\"\n",
    "        prediction_utils.download_model_artifacts(artifacts_uri)\n",
    "        self.sam = sam_model_registry[self.model_type](checkpoint=\"sam_vit_b_01ec64.pth\")\n",
    "        self.sam.to(device=self.device)\n",
    "        \n",
    "    \n",
    "    # preprocess the data, the image received as base64 is preprocessed\n",
    "    # The prompt inputs are sent to predict method\n",
    "    def preprocess(self, prediction_input: Dict) -> Dict:\n",
    "        print(\"************** IN PRE PROCESS **********************\")\n",
    "        prediction_input = prediction_input[\"instances\"][0]\n",
    "        image = prediction_input[\"image\"]\n",
    "        jpg_original = base64.b64decode(image)\n",
    "        jpg_as_np = np.frombuffer(jpg_original, dtype=np.uint8)\n",
    "        img = cv2.imdecode(jpg_as_np, flags=1)\n",
    "        image = cv2.cvtColor(img, cv2.COLOR_BGR2RGB)\n",
    "        \n",
    "        if len(prediction_input) > 2: # Masking with prompts requires 3 inputs (file_path, image, input_points, input_label)\n",
    "            \"\"\" Masking with prompts \"\"\"\n",
    "            print(\"PREDICTING WITH PROMPTS\")\n",
    "            self.mask_with_prompts = True\n",
    "            self.predictor = SamPredictor(self.sam)\n",
    "            self.predictor.set_image(image) \n",
    "            del prediction_input[\"image\"] \n",
    "        else: # Masking without prompts requires only image input\n",
    "            \"\"\" Masking without prompts / automatic masking \"\"\"\n",
    "            self.mask_with_prompts = False\n",
    "            self.mask_generator = SamAutomaticMaskGenerator(self.sam)\n",
    "            prediction_input[\"image_cvtColor\"] = image\n",
    "        \n",
    "        return prediction_input\n",
    "\n",
    "    # Get the predictions from the loaded model\n",
    "    @torch.inference_mode()\n",
    "    def predict(self, prediction_input: Dict) -> List:\n",
    "        \"\"\"Performs prediction.\"\"\"\n",
    "        print(self.mask_with_prompts)\n",
    "        if self.mask_with_prompts:\n",
    "            print(\"PREDICTING WITH PROMPTS\")\n",
    "            \"\"\" Masking with prompts \"\"\"\n",
    "            masks, scores, logits = self.predictor.predict(\n",
    "                point_coords=np.array(prediction_input[\"input_point\"]).reshape(1,2),\n",
    "                point_labels=np.array(prediction_input[\"input_label\"]),\n",
    "                multimask_output=True,\n",
    "            )\n",
    "            \n",
    "            return list((prediction_input[\"file_path\"], masks, scores, logits))\n",
    "        else:\n",
    "            \"\"\" Masking without prompts / automatic masking \"\"\"\n",
    "            masks = self.mask_generator.generate(prediction_input[\"image_cvtColor\"])\n",
    "            \n",
    "            return list((prediction_input[\"file_path\"], prediction_input[\"image\"], masks))\n",
    "\n",
    "        \n",
    "        \n",
    "    \n",
    "    # Returns the predictions as a dictionary\n",
    "    def postprocess(self, prediction_results: List) -> Dict:\n",
    "        \"\"\"Postprocessing / construct response structure.\"\"\"\n",
    "        prediction={}\n",
    "        if self.mask_with_prompts:\n",
    "            \"\"\" Prediction response / Masking with prompts \"\"\"\n",
    "            prediction[\"file_path\"] = prediction_results[0]\n",
    "            prediction[\"masks\"] = prediction_results[1].tolist()\n",
    "            prediction[\"scores\"] = prediction_results[2].tolist()\n",
    "            prediction[\"logits\"] = prediction_results[3].tolist()\n",
    "        else:\n",
    "            \"\"\" Prediction response / Masking without prompts / automatic masking \"\"\"\n",
    "            prediction[\"file_path\"] = prediction_results[0]\n",
    "            prediction[\"image\"] = prediction_results[1]\n",
    "            prediction[\"masks\"] = {}\n",
    "            for idx, mask in enumerate(prediction_results[2]):\n",
    "                prediction[\"masks\"][f'mask_{idx}'] = m.tolist() \n",
    "            \n",
    "        return prediction\n"
   ]
  },
  {
   "cell_type": "markdown",
   "id": "ed6fd423-53d3-49a8-9828-9267ca2111e8",
   "metadata": {},
   "source": [
    "### Prepare input json for model predictions"
   ]
  },
  {
   "cell_type": "code",
   "execution_count": 7,
   "id": "30d5fdd6-b591-4d2e-9dcf-6db851904a21",
   "metadata": {},
   "outputs": [],
   "source": [
    "import cv2\n",
    "import numpy as np\n",
    "import json\n",
    "import base64\n",
    "import matplotlib.pyplot as plt"
   ]
  },
  {
   "cell_type": "code",
   "execution_count": 8,
   "id": "ac387733-6340-41e9-8f80-2ba55acdf1bb",
   "metadata": {},
   "outputs": [],
   "source": [
    "\"\"\" PREPARE INPUT FILE FOR WITHOUT PROMPTS MASKING \"\"\"\n",
    "image = cv2.imread('images/truck.jpg')\n",
    "img_string = base64.b64encode(cv2.imencode('.jpg', image)[1]).decode()\n",
    "input_instance = {}\n",
    "input = {}\n",
    "input_list = []\n",
    "\n",
    "input[\"file_path\"] = \"images/truck.jpg\"\n",
    "input[\"image\"] = img_string\n",
    "\n",
    "input_list.append(input)\n",
    "\n",
    "input_instance[\"instances\"] = input_list\n",
    "\n",
    "INPUT_FILE_WITHOUT_PROMPTS = \"input_without_prompts.json\"\n",
    "with open(INPUT_FILE_WITHOUT_PROMPTS, \"w\") as outfile:\n",
    "    json.dump(input_instance, outfile)"
   ]
  },
  {
   "cell_type": "code",
   "execution_count": 9,
   "id": "1dd783df-3b53-454e-a978-4df0c059e3d9",
   "metadata": {},
   "outputs": [],
   "source": [
    "\"\"\" PREPARE INPUT FILE FOR WITH PROMPTS MASKING \"\"\"\n",
    "image = cv2.imread('images/truck.jpg')\n",
    "img_string = base64.b64encode(cv2.imencode('.jpg', image)[1]).decode()\n",
    "input_instance = {}\n",
    "input = {}\n",
    "input_list = []\n",
    "\n",
    "input[\"file_path\"] = \"images/truck.jpg\"\n",
    "input[\"image\"] = img_string\n",
    "input_point = [500, 375]\n",
    "input_label = [1]\n",
    "\n",
    "input[\"input_point\"] = input_point\n",
    "input[\"input_label\"] = input_label\n",
    "\n",
    "input_list.append(input)\n",
    "input_instance[\"instances\"] = input_list\n",
    "\n",
    "INPUT_FILE_WITH_PROMPTS = \"input_with_prompts.json\"\n",
    "with open(INPUT_FILE_WITH_PROMPTS, \"w\") as outfile:\n",
    "    json.dump(input_instance, outfile)"
   ]
  },
  {
   "cell_type": "code",
   "execution_count": 2,
   "id": "871c219e-f8c6-41ab-aa65-d2611c206da9",
   "metadata": {},
   "outputs": [
    {
     "data": {
      "text/plain": [
       "numpy.ndarray"
      ]
     },
     "execution_count": 2,
     "metadata": {},
     "output_type": "execute_result"
    }
   ],
   "source": [
    "image = cv2.imread('images/truck.jpg')\n",
    "type(image)"
   ]
  }
 ],
 "metadata": {
  "environment": {
   "kernel": "python3",
   "name": "pytorch-gpu.1-13.m108",
   "type": "gcloud",
   "uri": "gcr.io/deeplearning-platform-release/pytorch-gpu.1-13:m108"
  },
  "kernelspec": {
   "display_name": "Python 3",
   "language": "python",
   "name": "python3"
  },
  "language_info": {
   "codemirror_mode": {
    "name": "ipython",
    "version": 3
   },
   "file_extension": ".py",
   "mimetype": "text/x-python",
   "name": "python",
   "nbconvert_exporter": "python",
   "pygments_lexer": "ipython3",
   "version": "3.10.10"
  }
 },
 "nbformat": 4,
 "nbformat_minor": 5
}
