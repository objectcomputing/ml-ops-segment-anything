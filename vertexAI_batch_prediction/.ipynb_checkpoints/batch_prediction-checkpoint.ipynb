{
 "cells": [
  {
   "cell_type": "code",
   "execution_count": 22,
   "id": "de87d0e1-23bf-4032-8a43-75951a1f4419",
   "metadata": {},
   "outputs": [],
   "source": [
    "from google.cloud import aiplatform\n",
    "\n",
    "aiplatform.init(location='us-west1')"
   ]
  },
  {
   "cell_type": "code",
   "execution_count": 23,
   "id": "6b434fe9-4c25-4faf-8cd7-7910f5fb9ae1",
   "metadata": {},
   "outputs": [],
   "source": [
    "model_id = 'projects/ml-ops-segment-anything/locations/us-west1/models/7722696994614935552'\n",
    "model = aiplatform.Model(model_id)"
   ]
  },
  {
   "cell_type": "code",
   "execution_count": 24,
   "id": "f4cf7bb7-98f1-474d-8a57-0657626ff45b",
   "metadata": {},
   "outputs": [
    {
     "data": {
      "text/plain": [
       "['jsonl', 'bigquery', 'csv', 'tf-record', 'tf-record-gzip', 'file-list']"
      ]
     },
     "execution_count": 24,
     "metadata": {},
     "output_type": "execute_result"
    }
   ],
   "source": [
    "model.supported_input_storage_formats"
   ]
  },
  {
   "cell_type": "code",
   "execution_count": 25,
   "id": "ad6b1b05-9646-4884-aed9-8e393fd31894",
   "metadata": {},
   "outputs": [],
   "source": [
    "from google.cloud import storage\n",
    "import base64\n",
    "import json\n",
    "\n",
    "# Initialize a client\n",
    "storage_client = storage.Client()\n",
    "# Create a bucket object\n",
    "bucket = storage_client.get_bucket(\"samimages\")\n",
    "# Create blob objects from the filepath\n",
    "blobs = bucket.list_blobs(prefix=\"images\")\n",
    "# Iterate over the blobs and filter based on file extension\n",
    "image_extensions = ('.png', '.jpg', '.jpeg')\n",
    "image_blobs = [blob for blob in blobs if blob.name.lower().endswith(image_extensions)]\n",
    "\n",
    "# Download all images in String\n",
    "image_base64_dict = {\"instances\": []}\n",
    "for image_blob in image_blobs:\n",
    "    base64_str = base64.b64encode(image_blob.download_as_bytes()).decode('utf-8')\n",
    "    # image_base64_dict[image_blob.name] = base64_str\n",
    "    image_base64_dict[\"instances\"].append({\n",
    "        'image': base64_str,\n",
    "        'file_path': f\"gs://samimages/{image_blob.name}\"\n",
    "    })\n",
    "\n",
    "# Save it to Artifact\n",
    "with open(\"batch_predict.jsonl\", \"w\") as file:\n",
    "    json.dump(image_base64_dict, file)\n",
    "    \n",
    "blob = bucket.blob(\"batch_predict.jsonl\")\n",
    "blob.upload_from_filename(\"batch_predict.jsonl\")"
   ]
  },
  {
   "cell_type": "code",
   "execution_count": 26,
   "id": "38404927-fc8f-4b43-b4d5-8cd53bb5c9fb",
   "metadata": {},
   "outputs": [],
   "source": [
    "job_display_name = 'sam'\n",
    "gcs_source = 'gs://samimages/batch_predict.jsonl'\n",
    "gcs_destination_prefix = 'gs://samimages'"
   ]
  },
  {
   "cell_type": "code",
   "execution_count": 27,
   "id": "862f0c02-fd7e-41e6-9dff-2d40be17369b",
   "metadata": {},
   "outputs": [
    {
     "name": "stdout",
     "output_type": "stream",
     "text": [
      "Creating BatchPredictionJob\n",
      "BatchPredictionJob created. Resource name: projects/633534855904/locations/us-west1/batchPredictionJobs/1640592294920847360\n",
      "To use this BatchPredictionJob in another session:\n",
      "bpj = aiplatform.BatchPredictionJob('projects/633534855904/locations/us-west1/batchPredictionJobs/1640592294920847360')\n",
      "View Batch Prediction Job:\n",
      "https://console.cloud.google.com/ai/platform/locations/us-west1/batch-predictions/1640592294920847360?project=633534855904\n",
      "BatchPredictionJob projects/633534855904/locations/us-west1/batchPredictionJobs/1640592294920847360 current state:\n",
      "JobState.JOB_STATE_RUNNING\n",
      "BatchPredictionJob projects/633534855904/locations/us-west1/batchPredictionJobs/1640592294920847360 current state:\n",
      "JobState.JOB_STATE_RUNNING\n",
      "BatchPredictionJob projects/633534855904/locations/us-west1/batchPredictionJobs/1640592294920847360 current state:\n",
      "JobState.JOB_STATE_RUNNING\n",
      "BatchPredictionJob projects/633534855904/locations/us-west1/batchPredictionJobs/1640592294920847360 current state:\n",
      "JobState.JOB_STATE_RUNNING\n",
      "BatchPredictionJob projects/633534855904/locations/us-west1/batchPredictionJobs/1640592294920847360 current state:\n",
      "JobState.JOB_STATE_RUNNING\n",
      "BatchPredictionJob projects/633534855904/locations/us-west1/batchPredictionJobs/1640592294920847360 current state:\n",
      "JobState.JOB_STATE_RUNNING\n",
      "BatchPredictionJob projects/633534855904/locations/us-west1/batchPredictionJobs/1640592294920847360 current state:\n",
      "JobState.JOB_STATE_RUNNING\n"
     ]
    },
    {
     "ename": "KeyboardInterrupt",
     "evalue": "",
     "output_type": "error",
     "traceback": [
      "\u001b[0;31m---------------------------------------------------------------------------\u001b[0m",
      "\u001b[0;31mKeyboardInterrupt\u001b[0m                         Traceback (most recent call last)",
      "Cell \u001b[0;32mIn[27], line 1\u001b[0m\n\u001b[0;32m----> 1\u001b[0m batch_prediction_job \u001b[38;5;241m=\u001b[39m \u001b[43mmodel\u001b[49m\u001b[38;5;241;43m.\u001b[39;49m\u001b[43mbatch_predict\u001b[49m\u001b[43m(\u001b[49m\n\u001b[1;32m      2\u001b[0m \u001b[43m    \u001b[49m\u001b[43mjob_display_name\u001b[49m\u001b[38;5;241;43m=\u001b[39;49m\u001b[43mjob_display_name\u001b[49m\u001b[43m,\u001b[49m\n\u001b[1;32m      3\u001b[0m \u001b[43m    \u001b[49m\u001b[43mmachine_type\u001b[49m\u001b[38;5;241;43m=\u001b[39;49m\u001b[43m \u001b[49m\u001b[38;5;124;43m\"\u001b[39;49m\u001b[38;5;124;43mn1-standard-2\u001b[39;49m\u001b[38;5;124;43m\"\u001b[39;49m\u001b[43m,\u001b[49m\n\u001b[1;32m      4\u001b[0m \u001b[43m    \u001b[49m\u001b[43maccelerator_type\u001b[49m\u001b[38;5;241;43m=\u001b[39;49m\u001b[43m \u001b[49m\u001b[38;5;124;43m\"\u001b[39;49m\u001b[38;5;124;43mNVIDIA_TESLA_T4\u001b[39;49m\u001b[38;5;124;43m\"\u001b[39;49m\u001b[43m,\u001b[49m\n\u001b[1;32m      5\u001b[0m \u001b[43m    \u001b[49m\u001b[43maccelerator_count\u001b[49m\u001b[38;5;241;43m=\u001b[39;49m\u001b[43m \u001b[49m\u001b[38;5;241;43m1\u001b[39;49m\u001b[43m,\u001b[49m\n\u001b[1;32m      6\u001b[0m \u001b[43m    \u001b[49m\u001b[43mgcs_source\u001b[49m\u001b[38;5;241;43m=\u001b[39;49m\u001b[43mgcs_source\u001b[49m\u001b[43m,\u001b[49m\n\u001b[1;32m      7\u001b[0m \u001b[43m    \u001b[49m\u001b[43mgcs_destination_prefix\u001b[49m\u001b[38;5;241;43m=\u001b[39;49m\u001b[43mgcs_destination_prefix\u001b[49m\u001b[43m,\u001b[49m\n\u001b[1;32m      8\u001b[0m \u001b[43m)\u001b[49m\n",
      "File \u001b[0;32m~/.local/lib/python3.10/site-packages/google/cloud/aiplatform/models.py:3734\u001b[0m, in \u001b[0;36mModel.batch_predict\u001b[0;34m(self, job_display_name, gcs_source, bigquery_source, instances_format, gcs_destination_prefix, bigquery_destination_prefix, predictions_format, model_parameters, machine_type, accelerator_type, accelerator_count, starting_replica_count, max_replica_count, generate_explanation, explanation_metadata, explanation_parameters, labels, credentials, encryption_spec_key_name, sync, create_request_timeout, batch_size, service_account)\u001b[0m\n\u001b[1;32m   3537\u001b[0m \u001b[38;5;28;01mdef\u001b[39;00m \u001b[38;5;21mbatch_predict\u001b[39m(\n\u001b[1;32m   3538\u001b[0m     \u001b[38;5;28mself\u001b[39m,\n\u001b[1;32m   3539\u001b[0m     job_display_name: Optional[\u001b[38;5;28mstr\u001b[39m] \u001b[38;5;241m=\u001b[39m \u001b[38;5;28;01mNone\u001b[39;00m,\n\u001b[0;32m   (...)\u001b[0m\n\u001b[1;32m   3563\u001b[0m     service_account: Optional[\u001b[38;5;28mstr\u001b[39m] \u001b[38;5;241m=\u001b[39m \u001b[38;5;28;01mNone\u001b[39;00m,\n\u001b[1;32m   3564\u001b[0m ) \u001b[38;5;241m-\u001b[39m\u001b[38;5;241m>\u001b[39m jobs\u001b[38;5;241m.\u001b[39mBatchPredictionJob:\n\u001b[1;32m   3565\u001b[0m \u001b[38;5;250m    \u001b[39m\u001b[38;5;124;03m\"\"\"Creates a batch prediction job using this Model and outputs\u001b[39;00m\n\u001b[1;32m   3566\u001b[0m \u001b[38;5;124;03m    prediction results to the provided destination prefix in the specified\u001b[39;00m\n\u001b[1;32m   3567\u001b[0m \u001b[38;5;124;03m    `predictions_format`. One source and one destination prefix are\u001b[39;00m\n\u001b[0;32m   (...)\u001b[0m\n\u001b[1;32m   3731\u001b[0m \u001b[38;5;124;03m            Instantiated representation of the created batch prediction job.\u001b[39;00m\n\u001b[1;32m   3732\u001b[0m \u001b[38;5;124;03m    \"\"\"\u001b[39;00m\n\u001b[0;32m-> 3734\u001b[0m     \u001b[38;5;28;01mreturn\u001b[39;00m \u001b[43mjobs\u001b[49m\u001b[38;5;241;43m.\u001b[39;49m\u001b[43mBatchPredictionJob\u001b[49m\u001b[38;5;241;43m.\u001b[39;49m\u001b[43mcreate\u001b[49m\u001b[43m(\u001b[49m\n\u001b[1;32m   3735\u001b[0m \u001b[43m        \u001b[49m\u001b[43mjob_display_name\u001b[49m\u001b[38;5;241;43m=\u001b[39;49m\u001b[43mjob_display_name\u001b[49m\u001b[43m,\u001b[49m\n\u001b[1;32m   3736\u001b[0m \u001b[43m        \u001b[49m\u001b[43mmodel_name\u001b[49m\u001b[38;5;241;43m=\u001b[39;49m\u001b[38;5;28;43mself\u001b[39;49m\u001b[43m,\u001b[49m\n\u001b[1;32m   3737\u001b[0m \u001b[43m        \u001b[49m\u001b[43minstances_format\u001b[49m\u001b[38;5;241;43m=\u001b[39;49m\u001b[43minstances_format\u001b[49m\u001b[43m,\u001b[49m\n\u001b[1;32m   3738\u001b[0m \u001b[43m        \u001b[49m\u001b[43mpredictions_format\u001b[49m\u001b[38;5;241;43m=\u001b[39;49m\u001b[43mpredictions_format\u001b[49m\u001b[43m,\u001b[49m\n\u001b[1;32m   3739\u001b[0m \u001b[43m        \u001b[49m\u001b[43mgcs_source\u001b[49m\u001b[38;5;241;43m=\u001b[39;49m\u001b[43mgcs_source\u001b[49m\u001b[43m,\u001b[49m\n\u001b[1;32m   3740\u001b[0m \u001b[43m        \u001b[49m\u001b[43mbigquery_source\u001b[49m\u001b[38;5;241;43m=\u001b[39;49m\u001b[43mbigquery_source\u001b[49m\u001b[43m,\u001b[49m\n\u001b[1;32m   3741\u001b[0m \u001b[43m        \u001b[49m\u001b[43mgcs_destination_prefix\u001b[49m\u001b[38;5;241;43m=\u001b[39;49m\u001b[43mgcs_destination_prefix\u001b[49m\u001b[43m,\u001b[49m\n\u001b[1;32m   3742\u001b[0m \u001b[43m        \u001b[49m\u001b[43mbigquery_destination_prefix\u001b[49m\u001b[38;5;241;43m=\u001b[39;49m\u001b[43mbigquery_destination_prefix\u001b[49m\u001b[43m,\u001b[49m\n\u001b[1;32m   3743\u001b[0m \u001b[43m        \u001b[49m\u001b[43mmodel_parameters\u001b[49m\u001b[38;5;241;43m=\u001b[39;49m\u001b[43mmodel_parameters\u001b[49m\u001b[43m,\u001b[49m\n\u001b[1;32m   3744\u001b[0m \u001b[43m        \u001b[49m\u001b[43mmachine_type\u001b[49m\u001b[38;5;241;43m=\u001b[39;49m\u001b[43mmachine_type\u001b[49m\u001b[43m,\u001b[49m\n\u001b[1;32m   3745\u001b[0m \u001b[43m        \u001b[49m\u001b[43maccelerator_type\u001b[49m\u001b[38;5;241;43m=\u001b[39;49m\u001b[43maccelerator_type\u001b[49m\u001b[43m,\u001b[49m\n\u001b[1;32m   3746\u001b[0m \u001b[43m        \u001b[49m\u001b[43maccelerator_count\u001b[49m\u001b[38;5;241;43m=\u001b[39;49m\u001b[43maccelerator_count\u001b[49m\u001b[43m,\u001b[49m\n\u001b[1;32m   3747\u001b[0m \u001b[43m        \u001b[49m\u001b[43mstarting_replica_count\u001b[49m\u001b[38;5;241;43m=\u001b[39;49m\u001b[43mstarting_replica_count\u001b[49m\u001b[43m,\u001b[49m\n\u001b[1;32m   3748\u001b[0m \u001b[43m        \u001b[49m\u001b[43mmax_replica_count\u001b[49m\u001b[38;5;241;43m=\u001b[39;49m\u001b[43mmax_replica_count\u001b[49m\u001b[43m,\u001b[49m\n\u001b[1;32m   3749\u001b[0m \u001b[43m        \u001b[49m\u001b[43mbatch_size\u001b[49m\u001b[38;5;241;43m=\u001b[39;49m\u001b[43mbatch_size\u001b[49m\u001b[43m,\u001b[49m\n\u001b[1;32m   3750\u001b[0m \u001b[43m        \u001b[49m\u001b[43mgenerate_explanation\u001b[49m\u001b[38;5;241;43m=\u001b[39;49m\u001b[43mgenerate_explanation\u001b[49m\u001b[43m,\u001b[49m\n\u001b[1;32m   3751\u001b[0m \u001b[43m        \u001b[49m\u001b[43mexplanation_metadata\u001b[49m\u001b[38;5;241;43m=\u001b[39;49m\u001b[43mexplanation_metadata\u001b[49m\u001b[43m,\u001b[49m\n\u001b[1;32m   3752\u001b[0m \u001b[43m        \u001b[49m\u001b[43mexplanation_parameters\u001b[49m\u001b[38;5;241;43m=\u001b[39;49m\u001b[43mexplanation_parameters\u001b[49m\u001b[43m,\u001b[49m\n\u001b[1;32m   3753\u001b[0m \u001b[43m        \u001b[49m\u001b[43mlabels\u001b[49m\u001b[38;5;241;43m=\u001b[39;49m\u001b[43mlabels\u001b[49m\u001b[43m,\u001b[49m\n\u001b[1;32m   3754\u001b[0m \u001b[43m        \u001b[49m\u001b[43mproject\u001b[49m\u001b[38;5;241;43m=\u001b[39;49m\u001b[38;5;28;43mself\u001b[39;49m\u001b[38;5;241;43m.\u001b[39;49m\u001b[43mproject\u001b[49m\u001b[43m,\u001b[49m\n\u001b[1;32m   3755\u001b[0m \u001b[43m        \u001b[49m\u001b[43mlocation\u001b[49m\u001b[38;5;241;43m=\u001b[39;49m\u001b[38;5;28;43mself\u001b[39;49m\u001b[38;5;241;43m.\u001b[39;49m\u001b[43mlocation\u001b[49m\u001b[43m,\u001b[49m\n\u001b[1;32m   3756\u001b[0m \u001b[43m        \u001b[49m\u001b[43mcredentials\u001b[49m\u001b[38;5;241;43m=\u001b[39;49m\u001b[43mcredentials\u001b[49m\u001b[43m \u001b[49m\u001b[38;5;129;43;01mor\u001b[39;49;00m\u001b[43m \u001b[49m\u001b[38;5;28;43mself\u001b[39;49m\u001b[38;5;241;43m.\u001b[39;49m\u001b[43mcredentials\u001b[49m\u001b[43m,\u001b[49m\n\u001b[1;32m   3757\u001b[0m \u001b[43m        \u001b[49m\u001b[43mencryption_spec_key_name\u001b[49m\u001b[38;5;241;43m=\u001b[39;49m\u001b[43mencryption_spec_key_name\u001b[49m\u001b[43m,\u001b[49m\n\u001b[1;32m   3758\u001b[0m \u001b[43m        \u001b[49m\u001b[43msync\u001b[49m\u001b[38;5;241;43m=\u001b[39;49m\u001b[43msync\u001b[49m\u001b[43m,\u001b[49m\n\u001b[1;32m   3759\u001b[0m \u001b[43m        \u001b[49m\u001b[43mcreate_request_timeout\u001b[49m\u001b[38;5;241;43m=\u001b[39;49m\u001b[43mcreate_request_timeout\u001b[49m\u001b[43m,\u001b[49m\n\u001b[1;32m   3760\u001b[0m \u001b[43m        \u001b[49m\u001b[43mservice_account\u001b[49m\u001b[38;5;241;43m=\u001b[39;49m\u001b[43mservice_account\u001b[49m\u001b[43m,\u001b[49m\n\u001b[1;32m   3761\u001b[0m \u001b[43m    \u001b[49m\u001b[43m)\u001b[49m\n",
      "File \u001b[0;32m~/.local/lib/python3.10/site-packages/google/cloud/aiplatform/jobs.py:794\u001b[0m, in \u001b[0;36mBatchPredictionJob.create\u001b[0;34m(cls, job_display_name, model_name, instances_format, predictions_format, gcs_source, bigquery_source, gcs_destination_prefix, bigquery_destination_prefix, model_parameters, machine_type, accelerator_type, accelerator_count, starting_replica_count, max_replica_count, generate_explanation, explanation_metadata, explanation_parameters, labels, project, location, credentials, encryption_spec_key_name, sync, create_request_timeout, batch_size, model_monitoring_objective_config, model_monitoring_alert_config, analysis_instance_schema_uri, service_account)\u001b[0m\n\u001b[1;32m    791\u001b[0m     gapic_batch_prediction_job\u001b[38;5;241m.\u001b[39mmodel_monitoring_config \u001b[38;5;241m=\u001b[39m gapic_mm_config\n\u001b[1;32m    793\u001b[0m \u001b[38;5;66;03m# TODO(b/242108750): remove temporary logic once model monitoring for batch prediction is GA\u001b[39;00m\n\u001b[0;32m--> 794\u001b[0m \u001b[38;5;28;01mreturn\u001b[39;00m \u001b[38;5;28;43mcls\u001b[39;49m\u001b[38;5;241;43m.\u001b[39;49m\u001b[43m_create\u001b[49m\u001b[43m(\u001b[49m\n\u001b[1;32m    795\u001b[0m \u001b[43m    \u001b[49m\u001b[43mempty_batch_prediction_job\u001b[49m\u001b[38;5;241;43m=\u001b[39;49m\u001b[43mempty_batch_prediction_job\u001b[49m\u001b[43m,\u001b[49m\n\u001b[1;32m    796\u001b[0m \u001b[43m    \u001b[49m\u001b[43mmodel_or_model_name\u001b[49m\u001b[38;5;241;43m=\u001b[39;49m\u001b[43mmodel_name\u001b[49m\u001b[43m,\u001b[49m\n\u001b[1;32m    797\u001b[0m \u001b[43m    \u001b[49m\u001b[43mgca_batch_prediction_job\u001b[49m\u001b[38;5;241;43m=\u001b[39;49m\u001b[43mgapic_batch_prediction_job\u001b[49m\u001b[43m,\u001b[49m\n\u001b[1;32m    798\u001b[0m \u001b[43m    \u001b[49m\u001b[43mgenerate_explanation\u001b[49m\u001b[38;5;241;43m=\u001b[39;49m\u001b[43mgenerate_explanation\u001b[49m\u001b[43m,\u001b[49m\n\u001b[1;32m    799\u001b[0m \u001b[43m    \u001b[49m\u001b[43msync\u001b[49m\u001b[38;5;241;43m=\u001b[39;49m\u001b[43msync\u001b[49m\u001b[43m,\u001b[49m\n\u001b[1;32m    800\u001b[0m \u001b[43m    \u001b[49m\u001b[43mcreate_request_timeout\u001b[49m\u001b[38;5;241;43m=\u001b[39;49m\u001b[43mcreate_request_timeout\u001b[49m\u001b[43m,\u001b[49m\n\u001b[1;32m    801\u001b[0m \u001b[43m\u001b[49m\u001b[43m)\u001b[49m\n",
      "File \u001b[0;32m~/.local/lib/python3.10/site-packages/google/cloud/aiplatform/base.py:814\u001b[0m, in \u001b[0;36moptional_sync.<locals>.optional_run_in_thread.<locals>.wrapper\u001b[0;34m(*args, **kwargs)\u001b[0m\n\u001b[1;32m    812\u001b[0m     \u001b[38;5;28;01mif\u001b[39;00m \u001b[38;5;28mself\u001b[39m:\n\u001b[1;32m    813\u001b[0m         VertexAiResourceNounWithFutureManager\u001b[38;5;241m.\u001b[39mwait(\u001b[38;5;28mself\u001b[39m)\n\u001b[0;32m--> 814\u001b[0m     \u001b[38;5;28;01mreturn\u001b[39;00m \u001b[43mmethod\u001b[49m\u001b[43m(\u001b[49m\u001b[38;5;241;43m*\u001b[39;49m\u001b[43margs\u001b[49m\u001b[43m,\u001b[49m\u001b[43m \u001b[49m\u001b[38;5;241;43m*\u001b[39;49m\u001b[38;5;241;43m*\u001b[39;49m\u001b[43mkwargs\u001b[49m\u001b[43m)\u001b[49m\n\u001b[1;32m    816\u001b[0m \u001b[38;5;66;03m# callbacks to call within the Future (in same Thread)\u001b[39;00m\n\u001b[1;32m    817\u001b[0m internal_callbacks \u001b[38;5;241m=\u001b[39m []\n",
      "File \u001b[0;32m~/.local/lib/python3.10/site-packages/google/cloud/aiplatform/jobs.py:875\u001b[0m, in \u001b[0;36mBatchPredictionJob._create\u001b[0;34m(cls, empty_batch_prediction_job, model_or_model_name, gca_batch_prediction_job, generate_explanation, sync, create_request_timeout)\u001b[0m\n\u001b[1;32m    869\u001b[0m _LOGGER\u001b[38;5;241m.\u001b[39mlog_create_complete(\u001b[38;5;28mcls\u001b[39m, batch_prediction_job\u001b[38;5;241m.\u001b[39m_gca_resource, \u001b[38;5;124m\"\u001b[39m\u001b[38;5;124mbpj\u001b[39m\u001b[38;5;124m\"\u001b[39m)\n\u001b[1;32m    871\u001b[0m _LOGGER\u001b[38;5;241m.\u001b[39minfo(\n\u001b[1;32m    872\u001b[0m     \u001b[38;5;124m\"\u001b[39m\u001b[38;5;124mView Batch Prediction Job:\u001b[39m\u001b[38;5;130;01m\\n\u001b[39;00m\u001b[38;5;132;01m%s\u001b[39;00m\u001b[38;5;124m\"\u001b[39m \u001b[38;5;241m%\u001b[39m batch_prediction_job\u001b[38;5;241m.\u001b[39m_dashboard_uri()\n\u001b[1;32m    873\u001b[0m )\n\u001b[0;32m--> 875\u001b[0m \u001b[43mbatch_prediction_job\u001b[49m\u001b[38;5;241;43m.\u001b[39;49m\u001b[43m_block_until_complete\u001b[49m\u001b[43m(\u001b[49m\u001b[43m)\u001b[49m\n\u001b[1;32m    877\u001b[0m \u001b[38;5;28;01mreturn\u001b[39;00m batch_prediction_job\n",
      "File \u001b[0;32m~/.local/lib/python3.10/site-packages/google/cloud/aiplatform/jobs.py:234\u001b[0m, in \u001b[0;36m_Job._block_until_complete\u001b[0;34m(self)\u001b[0m\n\u001b[1;32m    232\u001b[0m         log_wait \u001b[38;5;241m=\u001b[39m \u001b[38;5;28mmin\u001b[39m(log_wait \u001b[38;5;241m*\u001b[39m _WAIT_TIME_MULTIPLIER, _MAX_WAIT_TIME)\n\u001b[1;32m    233\u001b[0m         previous_time \u001b[38;5;241m=\u001b[39m current_time\n\u001b[0;32m--> 234\u001b[0m     \u001b[43mtime\u001b[49m\u001b[38;5;241;43m.\u001b[39;49m\u001b[43msleep\u001b[49m\u001b[43m(\u001b[49m\u001b[43m_JOB_WAIT_TIME\u001b[49m\u001b[43m)\u001b[49m\n\u001b[1;32m    236\u001b[0m \u001b[38;5;28mself\u001b[39m\u001b[38;5;241m.\u001b[39m_log_job_state()\n\u001b[1;32m    238\u001b[0m \u001b[38;5;66;03m# Error is only populated when the job state is\u001b[39;00m\n\u001b[1;32m    239\u001b[0m \u001b[38;5;66;03m# JOB_STATE_FAILED or JOB_STATE_CANCELLED.\u001b[39;00m\n",
      "\u001b[0;31mKeyboardInterrupt\u001b[0m: "
     ]
    }
   ],
   "source": [
    "batch_prediction_job = model.batch_predict(\n",
    "    job_display_name=job_display_name,\n",
    "    machine_type= \"n1-standard-2\",\n",
    "    accelerator_type= \"NVIDIA_TESLA_T4\",\n",
    "    accelerator_count= 1,\n",
    "    gcs_source=gcs_source,\n",
    "    gcs_destination_prefix=gcs_destination_prefix,\n",
    ")"
   ]
  }
 ],
 "metadata": {
  "environment": {
   "kernel": "python3",
   "name": "pytorch-gpu.1-13.m108",
   "type": "gcloud",
   "uri": "gcr.io/deeplearning-platform-release/pytorch-gpu.1-13:m108"
  },
  "kernelspec": {
   "display_name": "Python 3",
   "language": "python",
   "name": "python3"
  },
  "language_info": {
   "codemirror_mode": {
    "name": "ipython",
    "version": 3
   },
   "file_extension": ".py",
   "mimetype": "text/x-python",
   "name": "python",
   "nbconvert_exporter": "python",
   "pygments_lexer": "ipython3",
   "version": "3.10.10"
  }
 },
 "nbformat": 4,
 "nbformat_minor": 5
}
